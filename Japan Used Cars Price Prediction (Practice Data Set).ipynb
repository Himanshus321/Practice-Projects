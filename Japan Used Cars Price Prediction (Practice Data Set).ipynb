{
 "cells": [
  {
   "cell_type": "code",
   "execution_count": 1,
   "id": "7b7ff0ba",
   "metadata": {},
   "outputs": [],
   "source": [
    "#import necessary library\n",
    "\n",
    "import numpy as np\n",
    "import pandas as pd\n",
    "import matplotlib.pyplot as plt\n",
    "import seaborn as sns\n",
    "%matplotlib inline\n",
    "\n",
    "import warnings\n",
    "warnings.filterwarnings('ignore')\n"
   ]
  },
  {
   "cell_type": "code",
   "execution_count": 2,
   "id": "6ab3a407",
   "metadata": {},
   "outputs": [],
   "source": [
    "# Import data set from Git Hub Raw file.\n",
    "df=pd.read_csv('https://raw.githubusercontent.com/dsrscientist/dataset4/main/Japan_used_cars_datasets.csv')"
   ]
  },
  {
   "cell_type": "code",
   "execution_count": 3,
   "id": "b4cb55ca",
   "metadata": {},
   "outputs": [
    {
     "data": {
      "text/html": [
       "<div>\n",
       "<style scoped>\n",
       "    .dataframe tbody tr th:only-of-type {\n",
       "        vertical-align: middle;\n",
       "    }\n",
       "\n",
       "    .dataframe tbody tr th {\n",
       "        vertical-align: top;\n",
       "    }\n",
       "\n",
       "    .dataframe thead th {\n",
       "        text-align: right;\n",
       "    }\n",
       "</style>\n",
       "<table border=\"1\" class=\"dataframe\">\n",
       "  <thead>\n",
       "    <tr style=\"text-align: right;\">\n",
       "      <th></th>\n",
       "      <th>id</th>\n",
       "      <th>price</th>\n",
       "      <th>mark</th>\n",
       "      <th>model</th>\n",
       "      <th>year</th>\n",
       "      <th>mileage</th>\n",
       "      <th>engine_capacity</th>\n",
       "      <th>transmission</th>\n",
       "      <th>drive</th>\n",
       "      <th>hand_drive</th>\n",
       "      <th>fuel</th>\n",
       "    </tr>\n",
       "  </thead>\n",
       "  <tbody>\n",
       "    <tr>\n",
       "      <th>0</th>\n",
       "      <td>0</td>\n",
       "      <td>80</td>\n",
       "      <td>nissan</td>\n",
       "      <td>march</td>\n",
       "      <td>2003</td>\n",
       "      <td>80000</td>\n",
       "      <td>1240</td>\n",
       "      <td>at</td>\n",
       "      <td>2wd</td>\n",
       "      <td>rhd</td>\n",
       "      <td>gasoline</td>\n",
       "    </tr>\n",
       "    <tr>\n",
       "      <th>1</th>\n",
       "      <td>1</td>\n",
       "      <td>110</td>\n",
       "      <td>nissan</td>\n",
       "      <td>march</td>\n",
       "      <td>2010</td>\n",
       "      <td>53000</td>\n",
       "      <td>1200</td>\n",
       "      <td>at</td>\n",
       "      <td>2wd</td>\n",
       "      <td>rhd</td>\n",
       "      <td>gasoline</td>\n",
       "    </tr>\n",
       "    <tr>\n",
       "      <th>2</th>\n",
       "      <td>2</td>\n",
       "      <td>165</td>\n",
       "      <td>nissan</td>\n",
       "      <td>lafesta</td>\n",
       "      <td>2005</td>\n",
       "      <td>47690</td>\n",
       "      <td>2000</td>\n",
       "      <td>at</td>\n",
       "      <td>2wd</td>\n",
       "      <td>rhd</td>\n",
       "      <td>gasoline</td>\n",
       "    </tr>\n",
       "    <tr>\n",
       "      <th>3</th>\n",
       "      <td>3</td>\n",
       "      <td>190</td>\n",
       "      <td>toyota</td>\n",
       "      <td>avensis</td>\n",
       "      <td>2008</td>\n",
       "      <td>130661</td>\n",
       "      <td>1990</td>\n",
       "      <td>at</td>\n",
       "      <td>2wd</td>\n",
       "      <td>rhd</td>\n",
       "      <td>gasoline</td>\n",
       "    </tr>\n",
       "    <tr>\n",
       "      <th>4</th>\n",
       "      <td>4</td>\n",
       "      <td>190</td>\n",
       "      <td>daihatsu</td>\n",
       "      <td>mira</td>\n",
       "      <td>2006</td>\n",
       "      <td>66300</td>\n",
       "      <td>660</td>\n",
       "      <td>at</td>\n",
       "      <td>2wd</td>\n",
       "      <td>rhd</td>\n",
       "      <td>gasoline</td>\n",
       "    </tr>\n",
       "  </tbody>\n",
       "</table>\n",
       "</div>"
      ],
      "text/plain": [
       "   id  price      mark    model  year  mileage  engine_capacity transmission  \\\n",
       "0   0     80    nissan    march  2003    80000             1240           at   \n",
       "1   1    110    nissan    march  2010    53000             1200           at   \n",
       "2   2    165    nissan  lafesta  2005    47690             2000           at   \n",
       "3   3    190    toyota  avensis  2008   130661             1990           at   \n",
       "4   4    190  daihatsu     mira  2006    66300              660           at   \n",
       "\n",
       "  drive hand_drive      fuel  \n",
       "0   2wd        rhd  gasoline  \n",
       "1   2wd        rhd  gasoline  \n",
       "2   2wd        rhd  gasoline  \n",
       "3   2wd        rhd  gasoline  \n",
       "4   2wd        rhd  gasoline  "
      ]
     },
     "execution_count": 3,
     "metadata": {},
     "output_type": "execute_result"
    }
   ],
   "source": [
    "# Checking top 5 rows of data set.\n",
    "\n",
    "df.head()"
   ]
  },
  {
   "cell_type": "code",
   "execution_count": 4,
   "id": "5fd29c0a",
   "metadata": {},
   "outputs": [
    {
     "data": {
      "text/plain": [
       "(2318, 11)"
      ]
     },
     "execution_count": 4,
     "metadata": {},
     "output_type": "execute_result"
    }
   ],
   "source": [
    "# Checking shape of this dataset.\n",
    "\n",
    "df.shape"
   ]
  },
  {
   "cell_type": "markdown",
   "id": "9840f5fc",
   "metadata": {},
   "source": [
    "There are 2318 rows and 11 column in this data set."
   ]
  },
  {
   "cell_type": "code",
   "execution_count": 5,
   "id": "981f746e",
   "metadata": {},
   "outputs": [
    {
     "data": {
      "text/plain": [
       "id                 0\n",
       "price              0\n",
       "mark               0\n",
       "model              0\n",
       "year               0\n",
       "mileage            0\n",
       "engine_capacity    0\n",
       "transmission       0\n",
       "drive              0\n",
       "hand_drive         0\n",
       "fuel               0\n",
       "dtype: int64"
      ]
     },
     "execution_count": 5,
     "metadata": {},
     "output_type": "execute_result"
    }
   ],
   "source": [
    "# Checking null values in data set\n",
    "df.isnull().sum()"
   ]
  },
  {
   "cell_type": "markdown",
   "id": "15f61886",
   "metadata": {},
   "source": [
    "There is no any null value in our data set."
   ]
  },
  {
   "cell_type": "markdown",
   "id": "bca1b17a",
   "metadata": {},
   "source": [
    "# Checking some basic information about dataset."
   ]
  },
  {
   "cell_type": "code",
   "execution_count": 6,
   "id": "f9ab40d3",
   "metadata": {},
   "outputs": [
    {
     "name": "stdout",
     "output_type": "stream",
     "text": [
      "<class 'pandas.core.frame.DataFrame'>\n",
      "RangeIndex: 2318 entries, 0 to 2317\n",
      "Data columns (total 11 columns):\n",
      " #   Column           Non-Null Count  Dtype \n",
      "---  ------           --------------  ----- \n",
      " 0   id               2318 non-null   int64 \n",
      " 1   price            2318 non-null   int64 \n",
      " 2   mark             2318 non-null   object\n",
      " 3   model            2318 non-null   object\n",
      " 4   year             2318 non-null   int64 \n",
      " 5   mileage          2318 non-null   int64 \n",
      " 6   engine_capacity  2318 non-null   int64 \n",
      " 7   transmission     2318 non-null   object\n",
      " 8   drive            2318 non-null   object\n",
      " 9   hand_drive       2318 non-null   object\n",
      " 10  fuel             2318 non-null   object\n",
      "dtypes: int64(5), object(6)\n",
      "memory usage: 199.3+ KB\n"
     ]
    }
   ],
   "source": [
    "df.info()"
   ]
  },
  {
   "cell_type": "code",
   "execution_count": 7,
   "id": "2afce3e0",
   "metadata": {},
   "outputs": [],
   "source": [
    "#. there are total 11 columns in this data set.\n",
    "#. price column is our target variable /lable column which is integer / continuous data so we should go with regression model.\n",
    "#. id is nominal column, we can drop this column.\n",
    "#. mark and model is also categorical type columns , we can drop this column.\n",
    "#. Further we will check correlation between features and labels for cross check the dependency which feature is depend on label."
   ]
  },
  {
   "cell_type": "code",
   "execution_count": 8,
   "id": "8b6c28ca",
   "metadata": {},
   "outputs": [
    {
     "data": {
      "text/html": [
       "<div>\n",
       "<style scoped>\n",
       "    .dataframe tbody tr th:only-of-type {\n",
       "        vertical-align: middle;\n",
       "    }\n",
       "\n",
       "    .dataframe tbody tr th {\n",
       "        vertical-align: top;\n",
       "    }\n",
       "\n",
       "    .dataframe thead th {\n",
       "        text-align: right;\n",
       "    }\n",
       "</style>\n",
       "<table border=\"1\" class=\"dataframe\">\n",
       "  <thead>\n",
       "    <tr style=\"text-align: right;\">\n",
       "      <th></th>\n",
       "      <th>id</th>\n",
       "      <th>price</th>\n",
       "      <th>mark</th>\n",
       "      <th>model</th>\n",
       "      <th>year</th>\n",
       "      <th>mileage</th>\n",
       "      <th>engine_capacity</th>\n",
       "      <th>transmission</th>\n",
       "      <th>drive</th>\n",
       "      <th>hand_drive</th>\n",
       "      <th>fuel</th>\n",
       "      <th>current_year</th>\n",
       "    </tr>\n",
       "  </thead>\n",
       "  <tbody>\n",
       "    <tr>\n",
       "      <th>0</th>\n",
       "      <td>0</td>\n",
       "      <td>80</td>\n",
       "      <td>nissan</td>\n",
       "      <td>march</td>\n",
       "      <td>2003</td>\n",
       "      <td>80000</td>\n",
       "      <td>1240</td>\n",
       "      <td>at</td>\n",
       "      <td>2wd</td>\n",
       "      <td>rhd</td>\n",
       "      <td>gasoline</td>\n",
       "      <td>2022</td>\n",
       "    </tr>\n",
       "    <tr>\n",
       "      <th>1</th>\n",
       "      <td>1</td>\n",
       "      <td>110</td>\n",
       "      <td>nissan</td>\n",
       "      <td>march</td>\n",
       "      <td>2010</td>\n",
       "      <td>53000</td>\n",
       "      <td>1200</td>\n",
       "      <td>at</td>\n",
       "      <td>2wd</td>\n",
       "      <td>rhd</td>\n",
       "      <td>gasoline</td>\n",
       "      <td>2022</td>\n",
       "    </tr>\n",
       "    <tr>\n",
       "      <th>2</th>\n",
       "      <td>2</td>\n",
       "      <td>165</td>\n",
       "      <td>nissan</td>\n",
       "      <td>lafesta</td>\n",
       "      <td>2005</td>\n",
       "      <td>47690</td>\n",
       "      <td>2000</td>\n",
       "      <td>at</td>\n",
       "      <td>2wd</td>\n",
       "      <td>rhd</td>\n",
       "      <td>gasoline</td>\n",
       "      <td>2022</td>\n",
       "    </tr>\n",
       "    <tr>\n",
       "      <th>3</th>\n",
       "      <td>3</td>\n",
       "      <td>190</td>\n",
       "      <td>toyota</td>\n",
       "      <td>avensis</td>\n",
       "      <td>2008</td>\n",
       "      <td>130661</td>\n",
       "      <td>1990</td>\n",
       "      <td>at</td>\n",
       "      <td>2wd</td>\n",
       "      <td>rhd</td>\n",
       "      <td>gasoline</td>\n",
       "      <td>2022</td>\n",
       "    </tr>\n",
       "    <tr>\n",
       "      <th>4</th>\n",
       "      <td>4</td>\n",
       "      <td>190</td>\n",
       "      <td>daihatsu</td>\n",
       "      <td>mira</td>\n",
       "      <td>2006</td>\n",
       "      <td>66300</td>\n",
       "      <td>660</td>\n",
       "      <td>at</td>\n",
       "      <td>2wd</td>\n",
       "      <td>rhd</td>\n",
       "      <td>gasoline</td>\n",
       "      <td>2022</td>\n",
       "    </tr>\n",
       "  </tbody>\n",
       "</table>\n",
       "</div>"
      ],
      "text/plain": [
       "   id  price      mark    model  year  mileage  engine_capacity transmission  \\\n",
       "0   0     80    nissan    march  2003    80000             1240           at   \n",
       "1   1    110    nissan    march  2010    53000             1200           at   \n",
       "2   2    165    nissan  lafesta  2005    47690             2000           at   \n",
       "3   3    190    toyota  avensis  2008   130661             1990           at   \n",
       "4   4    190  daihatsu     mira  2006    66300              660           at   \n",
       "\n",
       "  drive hand_drive      fuel  current_year  \n",
       "0   2wd        rhd  gasoline          2022  \n",
       "1   2wd        rhd  gasoline          2022  \n",
       "2   2wd        rhd  gasoline          2022  \n",
       "3   2wd        rhd  gasoline          2022  \n",
       "4   2wd        rhd  gasoline          2022  "
      ]
     },
     "execution_count": 8,
     "metadata": {},
     "output_type": "execute_result"
    }
   ],
   "source": [
    "# Dealing with year column. this is useful colums to get the car age \n",
    "df['current_year']=2022\n",
    "df.head()"
   ]
  },
  {
   "cell_type": "code",
   "execution_count": 9,
   "id": "cdbf3820",
   "metadata": {},
   "outputs": [
    {
     "data": {
      "text/html": [
       "<div>\n",
       "<style scoped>\n",
       "    .dataframe tbody tr th:only-of-type {\n",
       "        vertical-align: middle;\n",
       "    }\n",
       "\n",
       "    .dataframe tbody tr th {\n",
       "        vertical-align: top;\n",
       "    }\n",
       "\n",
       "    .dataframe thead th {\n",
       "        text-align: right;\n",
       "    }\n",
       "</style>\n",
       "<table border=\"1\" class=\"dataframe\">\n",
       "  <thead>\n",
       "    <tr style=\"text-align: right;\">\n",
       "      <th></th>\n",
       "      <th>id</th>\n",
       "      <th>price</th>\n",
       "      <th>mark</th>\n",
       "      <th>model</th>\n",
       "      <th>year</th>\n",
       "      <th>mileage</th>\n",
       "      <th>engine_capacity</th>\n",
       "      <th>transmission</th>\n",
       "      <th>drive</th>\n",
       "      <th>hand_drive</th>\n",
       "      <th>fuel</th>\n",
       "      <th>current_year</th>\n",
       "      <th>No_of_yr</th>\n",
       "    </tr>\n",
       "  </thead>\n",
       "  <tbody>\n",
       "    <tr>\n",
       "      <th>0</th>\n",
       "      <td>0</td>\n",
       "      <td>80</td>\n",
       "      <td>nissan</td>\n",
       "      <td>march</td>\n",
       "      <td>2003</td>\n",
       "      <td>80000</td>\n",
       "      <td>1240</td>\n",
       "      <td>at</td>\n",
       "      <td>2wd</td>\n",
       "      <td>rhd</td>\n",
       "      <td>gasoline</td>\n",
       "      <td>2022</td>\n",
       "      <td>19</td>\n",
       "    </tr>\n",
       "    <tr>\n",
       "      <th>1</th>\n",
       "      <td>1</td>\n",
       "      <td>110</td>\n",
       "      <td>nissan</td>\n",
       "      <td>march</td>\n",
       "      <td>2010</td>\n",
       "      <td>53000</td>\n",
       "      <td>1200</td>\n",
       "      <td>at</td>\n",
       "      <td>2wd</td>\n",
       "      <td>rhd</td>\n",
       "      <td>gasoline</td>\n",
       "      <td>2022</td>\n",
       "      <td>12</td>\n",
       "    </tr>\n",
       "    <tr>\n",
       "      <th>2</th>\n",
       "      <td>2</td>\n",
       "      <td>165</td>\n",
       "      <td>nissan</td>\n",
       "      <td>lafesta</td>\n",
       "      <td>2005</td>\n",
       "      <td>47690</td>\n",
       "      <td>2000</td>\n",
       "      <td>at</td>\n",
       "      <td>2wd</td>\n",
       "      <td>rhd</td>\n",
       "      <td>gasoline</td>\n",
       "      <td>2022</td>\n",
       "      <td>17</td>\n",
       "    </tr>\n",
       "    <tr>\n",
       "      <th>3</th>\n",
       "      <td>3</td>\n",
       "      <td>190</td>\n",
       "      <td>toyota</td>\n",
       "      <td>avensis</td>\n",
       "      <td>2008</td>\n",
       "      <td>130661</td>\n",
       "      <td>1990</td>\n",
       "      <td>at</td>\n",
       "      <td>2wd</td>\n",
       "      <td>rhd</td>\n",
       "      <td>gasoline</td>\n",
       "      <td>2022</td>\n",
       "      <td>14</td>\n",
       "    </tr>\n",
       "    <tr>\n",
       "      <th>4</th>\n",
       "      <td>4</td>\n",
       "      <td>190</td>\n",
       "      <td>daihatsu</td>\n",
       "      <td>mira</td>\n",
       "      <td>2006</td>\n",
       "      <td>66300</td>\n",
       "      <td>660</td>\n",
       "      <td>at</td>\n",
       "      <td>2wd</td>\n",
       "      <td>rhd</td>\n",
       "      <td>gasoline</td>\n",
       "      <td>2022</td>\n",
       "      <td>16</td>\n",
       "    </tr>\n",
       "  </tbody>\n",
       "</table>\n",
       "</div>"
      ],
      "text/plain": [
       "   id  price      mark    model  year  mileage  engine_capacity transmission  \\\n",
       "0   0     80    nissan    march  2003    80000             1240           at   \n",
       "1   1    110    nissan    march  2010    53000             1200           at   \n",
       "2   2    165    nissan  lafesta  2005    47690             2000           at   \n",
       "3   3    190    toyota  avensis  2008   130661             1990           at   \n",
       "4   4    190  daihatsu     mira  2006    66300              660           at   \n",
       "\n",
       "  drive hand_drive      fuel  current_year  No_of_yr  \n",
       "0   2wd        rhd  gasoline          2022        19  \n",
       "1   2wd        rhd  gasoline          2022        12  \n",
       "2   2wd        rhd  gasoline          2022        17  \n",
       "3   2wd        rhd  gasoline          2022        14  \n",
       "4   2wd        rhd  gasoline          2022        16  "
      ]
     },
     "execution_count": 9,
     "metadata": {},
     "output_type": "execute_result"
    }
   ],
   "source": [
    "df['No_of_yr']=df['current_year']-df['year']\n",
    "df.head()"
   ]
  },
  {
   "cell_type": "code",
   "execution_count": 10,
   "id": "c533aa44",
   "metadata": {},
   "outputs": [
    {
     "data": {
      "text/html": [
       "<div>\n",
       "<style scoped>\n",
       "    .dataframe tbody tr th:only-of-type {\n",
       "        vertical-align: middle;\n",
       "    }\n",
       "\n",
       "    .dataframe tbody tr th {\n",
       "        vertical-align: top;\n",
       "    }\n",
       "\n",
       "    .dataframe thead th {\n",
       "        text-align: right;\n",
       "    }\n",
       "</style>\n",
       "<table border=\"1\" class=\"dataframe\">\n",
       "  <thead>\n",
       "    <tr style=\"text-align: right;\">\n",
       "      <th></th>\n",
       "      <th>id</th>\n",
       "      <th>price</th>\n",
       "      <th>mark</th>\n",
       "      <th>model</th>\n",
       "      <th>mileage</th>\n",
       "      <th>engine_capacity</th>\n",
       "      <th>transmission</th>\n",
       "      <th>drive</th>\n",
       "      <th>hand_drive</th>\n",
       "      <th>fuel</th>\n",
       "      <th>No_of_yr</th>\n",
       "    </tr>\n",
       "  </thead>\n",
       "  <tbody>\n",
       "    <tr>\n",
       "      <th>0</th>\n",
       "      <td>0</td>\n",
       "      <td>80</td>\n",
       "      <td>nissan</td>\n",
       "      <td>march</td>\n",
       "      <td>80000</td>\n",
       "      <td>1240</td>\n",
       "      <td>at</td>\n",
       "      <td>2wd</td>\n",
       "      <td>rhd</td>\n",
       "      <td>gasoline</td>\n",
       "      <td>19</td>\n",
       "    </tr>\n",
       "    <tr>\n",
       "      <th>1</th>\n",
       "      <td>1</td>\n",
       "      <td>110</td>\n",
       "      <td>nissan</td>\n",
       "      <td>march</td>\n",
       "      <td>53000</td>\n",
       "      <td>1200</td>\n",
       "      <td>at</td>\n",
       "      <td>2wd</td>\n",
       "      <td>rhd</td>\n",
       "      <td>gasoline</td>\n",
       "      <td>12</td>\n",
       "    </tr>\n",
       "    <tr>\n",
       "      <th>2</th>\n",
       "      <td>2</td>\n",
       "      <td>165</td>\n",
       "      <td>nissan</td>\n",
       "      <td>lafesta</td>\n",
       "      <td>47690</td>\n",
       "      <td>2000</td>\n",
       "      <td>at</td>\n",
       "      <td>2wd</td>\n",
       "      <td>rhd</td>\n",
       "      <td>gasoline</td>\n",
       "      <td>17</td>\n",
       "    </tr>\n",
       "    <tr>\n",
       "      <th>3</th>\n",
       "      <td>3</td>\n",
       "      <td>190</td>\n",
       "      <td>toyota</td>\n",
       "      <td>avensis</td>\n",
       "      <td>130661</td>\n",
       "      <td>1990</td>\n",
       "      <td>at</td>\n",
       "      <td>2wd</td>\n",
       "      <td>rhd</td>\n",
       "      <td>gasoline</td>\n",
       "      <td>14</td>\n",
       "    </tr>\n",
       "    <tr>\n",
       "      <th>4</th>\n",
       "      <td>4</td>\n",
       "      <td>190</td>\n",
       "      <td>daihatsu</td>\n",
       "      <td>mira</td>\n",
       "      <td>66300</td>\n",
       "      <td>660</td>\n",
       "      <td>at</td>\n",
       "      <td>2wd</td>\n",
       "      <td>rhd</td>\n",
       "      <td>gasoline</td>\n",
       "      <td>16</td>\n",
       "    </tr>\n",
       "  </tbody>\n",
       "</table>\n",
       "</div>"
      ],
      "text/plain": [
       "   id  price      mark    model  mileage  engine_capacity transmission drive  \\\n",
       "0   0     80    nissan    march    80000             1240           at   2wd   \n",
       "1   1    110    nissan    march    53000             1200           at   2wd   \n",
       "2   2    165    nissan  lafesta    47690             2000           at   2wd   \n",
       "3   3    190    toyota  avensis   130661             1990           at   2wd   \n",
       "4   4    190  daihatsu     mira    66300              660           at   2wd   \n",
       "\n",
       "  hand_drive      fuel  No_of_yr  \n",
       "0        rhd  gasoline        19  \n",
       "1        rhd  gasoline        12  \n",
       "2        rhd  gasoline        17  \n",
       "3        rhd  gasoline        14  \n",
       "4        rhd  gasoline        16  "
      ]
     },
     "execution_count": 10,
     "metadata": {},
     "output_type": "execute_result"
    }
   ],
   "source": [
    "df.drop(['year','current_year'],axis=1,inplace=True)\n",
    "df.head()"
   ]
  },
  {
   "cell_type": "code",
   "execution_count": 11,
   "id": "a7cf12b3",
   "metadata": {},
   "outputs": [
    {
     "data": {
      "text/plain": [
       "array(['gasoline', 'diesel', 'hybrid', 'lpg', 'cng'], dtype=object)"
      ]
     },
     "execution_count": 11,
     "metadata": {},
     "output_type": "execute_result"
    }
   ],
   "source": [
    "# Checking fuel type column and convert the same in continuous data.\n",
    "df['fuel'].unique()"
   ]
  },
  {
   "cell_type": "code",
   "execution_count": 12,
   "id": "5ac7397e",
   "metadata": {},
   "outputs": [
    {
     "data": {
      "text/plain": [
       "array([0, 1, 2, 3, 4], dtype=int64)"
      ]
     },
     "execution_count": 12,
     "metadata": {},
     "output_type": "execute_result"
    }
   ],
   "source": [
    "df['fuel']=df['fuel'].replace({'gasoline':0,'diesel':1,'hybrid':2,'lpg':3,'cng':4})\n",
    "df['fuel'].unique()"
   ]
  },
  {
   "cell_type": "code",
   "execution_count": 13,
   "id": "1f20e9cb",
   "metadata": {},
   "outputs": [
    {
     "data": {
      "text/plain": [
       "array([   0,    1,    2, ..., 2333, 2334, 2335], dtype=int64)"
      ]
     },
     "execution_count": 13,
     "metadata": {},
     "output_type": "execute_result"
    }
   ],
   "source": [
    "# Checking Unique Values of data set.\n",
    "\n",
    "df['id'].unique()\n"
   ]
  },
  {
   "cell_type": "code",
   "execution_count": 14,
   "id": "33c738e1",
   "metadata": {},
   "outputs": [
    {
     "data": {
      "text/plain": [
       "array(['nissan', 'toyota', 'daihatsu', 'volkswagen', 'mazda', 'honda',\n",
       "       'subaru', 'mercedes-benz', 'kubota', 'mitsubishi', 'suzuki', 'bmw',\n",
       "       'chrysler', 'smart', 'gm', 'opel', 'isuzu', 'land rover',\n",
       "       'peugeot', 'hyundai', 'kia motors', 'audi', 'citroen', 'mitsuoka',\n",
       "       'volvo', 'ford', 'hino', 'jaguar'], dtype=object)"
      ]
     },
     "execution_count": 14,
     "metadata": {},
     "output_type": "execute_result"
    }
   ],
   "source": [
    "df['mark'].unique()"
   ]
  },
  {
   "cell_type": "code",
   "execution_count": 15,
   "id": "c4219ebd",
   "metadata": {},
   "outputs": [
    {
     "data": {
      "text/plain": [
       "array(['march', 'lafesta', 'avensis', 'mira', 'passat', 'bongo van',\n",
       "       'step wgn', 'sambar', 'inspire', 'mercedes-benz others', 'note',\n",
       "       'passo', 'impreza', 'kubota others', 'life', 'progres',\n",
       "       'cube cubic', 'cube', 'a-class', 'coltplus', 'mr wagon',\n",
       "       'pajero mini', 'fit', 'legacy b4', 'vitz', 'mark ii blit',\n",
       "       'insight', 'move', 'tanto', 'terios kid', 'az-wagon', 'coo',\n",
       "       'verisa', 'swift', 'delica d2', 'tiida', 'sienta', 'mini', 'colt',\n",
       "       'platz', 'bluebird sylphy', 'eclipse', 'bb', 'moco',\n",
       "       'clipper truck', 'esse', 'ek wagon', 'polo', 'x-trail',\n",
       "       'atenza sport', 'ad van', 'pixis space', 'freed spike', 'stream',\n",
       "       'alto', 'raum', 'wish', 'every', 'demio', 'jimny', 'premacy',\n",
       "       'cr-v', 'lapin', 'delica', 'wagon r', 'lancer', 'naked', 'odyssey',\n",
       "       'ractis', 'porte', 'corolla rumion', 'tiida latio', 'voxy',\n",
       "       'carol', 'sunny', 'bongo truck', 'boon', 's-mx', 'pt cruiser',\n",
       "       'golf', 'ad expert', 'fit hybrid', 'serena', 'edix', 'move custom',\n",
       "       'impreza anesis', 'estima', 'carry truck', 'solio', 'mpv',\n",
       "       'vanette van', 'accord', 'tribute', 'pajero io', 'noah',\n",
       "       'vanette truck', 'delica truck', 'lancer cargo', 'atenza wagon',\n",
       "       'atenza', 'vamos', 'r2', 'fun cargo', 'airwave', 'ipsum',\n",
       "       'verossa', 'forfour', 'elgrand', 'ist', 'mirage',\n",
       "       'chevrolet others', 'corolla spacio', 'aerio', 'altezza', 'vectra',\n",
       "       'minicab truck', 'outback', 'mark x', 'gaia', 'alphard', 'caldina',\n",
       "       'alphard g', 'brevis', 'axela sport', 'alphard v', 'pleo',\n",
       "       'minicab van', 'nv100clipper', 'sx4', 'legacy', 'aristo',\n",
       "       'palette', 'wizard', 'forester', 'grand escudo', 'jetta',\n",
       "       'corolla axio', 'discovery', 'stagea', 'dion', 'mira avy',\n",
       "       'mark ii', 'corolla runx', 'hijet cargo', 'biante', 'carol eco',\n",
       "       'axela', 'cami', 'hijet truck', 'e-class', 'hr-v', 'elysion',\n",
       "       'crown comfort', 'canter', 'impreza sportswagon', 'corolla ii',\n",
       "       '207', 'sx4 sedan', 'townace van', 'allion', 'passo sette',\n",
       "       'crown', 'civic ferio', 'fuga', 'legacy touring wagon', 'tucson',\n",
       "       'gloria hardtop', '3 series', 'x-trek', 'stella', 'bongo',\n",
       "       'bongo friendee', 'a4', 'a4 avant', 'fit shuttle', 'acty truck',\n",
       "       'sambar truck', 'freed', 'isis', 'exiga', 'skyline', 'allex',\n",
       "       'splash', 'titan dash', 'chaser', 'voltz', 'visto', 'civic hybrid',\n",
       "       'wingroad', 'murano', 'probox', 'c-class', 'corolla sedan',\n",
       "       'xsara picasso', 'rx-8', 'corona premio', 'comfort', 'miragino',\n",
       "       'new beetle', 'viewt', 'canter guts', 'regius wagon', 'v70',\n",
       "       'mira es', 'acty van', 'duet', 'b-class', '307', 'belta', 'otti',\n",
       "       'mini cooper', 'ek sport', 'escudo', 'succeed van', 'atrai wagon',\n",
       "       'atrai', 'zest', 'mdx', 'galant fortis', 'terios', 'clipper van',\n",
       "       '1 series', 'townace noah', 'premio', 'outlander', 'opa',\n",
       "       'bongo brawny truck', 'masterace surf', 'move latte', 'santa fe',\n",
       "       'terracan', 'teana', 'cima', 'auris', 'corolla fielder', 'ad',\n",
       "       'freelander', 'town box', 'probox van', 'golf variant', 'windom',\n",
       "       'cerato', 'pride', 'escape', 'landy', 'vivio', 'spade', 'clipper',\n",
       "       'dutro', 'elf truck', 'carina', 'wagon r rr', 'x-type', 'trajet',\n",
       "       'minica', 'c30', 'z', 'estima t'], dtype=object)"
      ]
     },
     "execution_count": 15,
     "metadata": {},
     "output_type": "execute_result"
    }
   ],
   "source": [
    "df['model'].unique()"
   ]
  },
  {
   "cell_type": "code",
   "execution_count": 16,
   "id": "4b286cd4",
   "metadata": {},
   "outputs": [
    {
     "data": {
      "text/plain": [
       "array(['at', 'mt', 'cvt'], dtype=object)"
      ]
     },
     "execution_count": 16,
     "metadata": {},
     "output_type": "execute_result"
    }
   ],
   "source": [
    "df['transmission'].unique()"
   ]
  },
  {
   "cell_type": "code",
   "execution_count": 17,
   "id": "ec95169a",
   "metadata": {},
   "outputs": [
    {
     "data": {
      "text/plain": [
       "array(['2wd', '4wd', 'awd'], dtype=object)"
      ]
     },
     "execution_count": 17,
     "metadata": {},
     "output_type": "execute_result"
    }
   ],
   "source": [
    "df['drive'].unique()"
   ]
  },
  {
   "cell_type": "code",
   "execution_count": 18,
   "id": "42d5f688",
   "metadata": {},
   "outputs": [
    {
     "data": {
      "text/plain": [
       "array(['rhd', 'center', 'lhd'], dtype=object)"
      ]
     },
     "execution_count": 18,
     "metadata": {},
     "output_type": "execute_result"
    }
   ],
   "source": [
    "df['hand_drive'].unique()"
   ]
  },
  {
   "cell_type": "markdown",
   "id": "fd798118",
   "metadata": {},
   "source": [
    "# Dealing with Fuel Column"
   ]
  },
  {
   "cell_type": "markdown",
   "id": "da66b875",
   "metadata": {},
   "source": [
    "This is Fuel Column, we cant delete this column as the same is useful feature for this data set."
   ]
  },
  {
   "cell_type": "code",
   "execution_count": 19,
   "id": "1b85bbbb",
   "metadata": {},
   "outputs": [
    {
     "data": {
      "text/plain": [
       "array([0, 1, 2, 3, 4], dtype=int64)"
      ]
     },
     "execution_count": 19,
     "metadata": {},
     "output_type": "execute_result"
    }
   ],
   "source": [
    "df['fuel'].unique()"
   ]
  },
  {
   "cell_type": "code",
   "execution_count": 20,
   "id": "2dfd09f8",
   "metadata": {},
   "outputs": [
    {
     "data": {
      "text/html": [
       "<div>\n",
       "<style scoped>\n",
       "    .dataframe tbody tr th:only-of-type {\n",
       "        vertical-align: middle;\n",
       "    }\n",
       "\n",
       "    .dataframe tbody tr th {\n",
       "        vertical-align: top;\n",
       "    }\n",
       "\n",
       "    .dataframe thead th {\n",
       "        text-align: right;\n",
       "    }\n",
       "</style>\n",
       "<table border=\"1\" class=\"dataframe\">\n",
       "  <thead>\n",
       "    <tr style=\"text-align: right;\">\n",
       "      <th></th>\n",
       "      <th>id</th>\n",
       "      <th>price</th>\n",
       "      <th>mark</th>\n",
       "      <th>model</th>\n",
       "      <th>mileage</th>\n",
       "      <th>engine_capacity</th>\n",
       "      <th>transmission</th>\n",
       "      <th>drive</th>\n",
       "      <th>hand_drive</th>\n",
       "      <th>fuel</th>\n",
       "      <th>No_of_yr</th>\n",
       "    </tr>\n",
       "  </thead>\n",
       "  <tbody>\n",
       "    <tr>\n",
       "      <th>0</th>\n",
       "      <td>0</td>\n",
       "      <td>80</td>\n",
       "      <td>nissan</td>\n",
       "      <td>march</td>\n",
       "      <td>80000</td>\n",
       "      <td>1240</td>\n",
       "      <td>at</td>\n",
       "      <td>2wd</td>\n",
       "      <td>rhd</td>\n",
       "      <td>0</td>\n",
       "      <td>19</td>\n",
       "    </tr>\n",
       "    <tr>\n",
       "      <th>1</th>\n",
       "      <td>1</td>\n",
       "      <td>110</td>\n",
       "      <td>nissan</td>\n",
       "      <td>march</td>\n",
       "      <td>53000</td>\n",
       "      <td>1200</td>\n",
       "      <td>at</td>\n",
       "      <td>2wd</td>\n",
       "      <td>rhd</td>\n",
       "      <td>0</td>\n",
       "      <td>12</td>\n",
       "    </tr>\n",
       "    <tr>\n",
       "      <th>2</th>\n",
       "      <td>2</td>\n",
       "      <td>165</td>\n",
       "      <td>nissan</td>\n",
       "      <td>lafesta</td>\n",
       "      <td>47690</td>\n",
       "      <td>2000</td>\n",
       "      <td>at</td>\n",
       "      <td>2wd</td>\n",
       "      <td>rhd</td>\n",
       "      <td>0</td>\n",
       "      <td>17</td>\n",
       "    </tr>\n",
       "    <tr>\n",
       "      <th>3</th>\n",
       "      <td>3</td>\n",
       "      <td>190</td>\n",
       "      <td>toyota</td>\n",
       "      <td>avensis</td>\n",
       "      <td>130661</td>\n",
       "      <td>1990</td>\n",
       "      <td>at</td>\n",
       "      <td>2wd</td>\n",
       "      <td>rhd</td>\n",
       "      <td>0</td>\n",
       "      <td>14</td>\n",
       "    </tr>\n",
       "    <tr>\n",
       "      <th>4</th>\n",
       "      <td>4</td>\n",
       "      <td>190</td>\n",
       "      <td>daihatsu</td>\n",
       "      <td>mira</td>\n",
       "      <td>66300</td>\n",
       "      <td>660</td>\n",
       "      <td>at</td>\n",
       "      <td>2wd</td>\n",
       "      <td>rhd</td>\n",
       "      <td>0</td>\n",
       "      <td>16</td>\n",
       "    </tr>\n",
       "  </tbody>\n",
       "</table>\n",
       "</div>"
      ],
      "text/plain": [
       "   id  price      mark    model  mileage  engine_capacity transmission drive  \\\n",
       "0   0     80    nissan    march    80000             1240           at   2wd   \n",
       "1   1    110    nissan    march    53000             1200           at   2wd   \n",
       "2   2    165    nissan  lafesta    47690             2000           at   2wd   \n",
       "3   3    190    toyota  avensis   130661             1990           at   2wd   \n",
       "4   4    190  daihatsu     mira    66300              660           at   2wd   \n",
       "\n",
       "  hand_drive  fuel  No_of_yr  \n",
       "0        rhd     0        19  \n",
       "1        rhd     0        12  \n",
       "2        rhd     0        17  \n",
       "3        rhd     0        14  \n",
       "4        rhd     0        16  "
      ]
     },
     "execution_count": 20,
     "metadata": {},
     "output_type": "execute_result"
    }
   ],
   "source": [
    "df['fuel']=df['fuel'].replace({'gasoline':0,'diesel':1,'hybrid':2,'lpg':3,'cng':4})\n",
    "\n",
    "df.head()"
   ]
  },
  {
   "cell_type": "markdown",
   "id": "34de5be2",
   "metadata": {},
   "source": [
    "# Dropping columns"
   ]
  },
  {
   "cell_type": "code",
   "execution_count": 21,
   "id": "bd235654",
   "metadata": {},
   "outputs": [
    {
     "data": {
      "text/html": [
       "<div>\n",
       "<style scoped>\n",
       "    .dataframe tbody tr th:only-of-type {\n",
       "        vertical-align: middle;\n",
       "    }\n",
       "\n",
       "    .dataframe tbody tr th {\n",
       "        vertical-align: top;\n",
       "    }\n",
       "\n",
       "    .dataframe thead th {\n",
       "        text-align: right;\n",
       "    }\n",
       "</style>\n",
       "<table border=\"1\" class=\"dataframe\">\n",
       "  <thead>\n",
       "    <tr style=\"text-align: right;\">\n",
       "      <th></th>\n",
       "      <th>price</th>\n",
       "      <th>mileage</th>\n",
       "      <th>engine_capacity</th>\n",
       "      <th>fuel</th>\n",
       "      <th>No_of_yr</th>\n",
       "    </tr>\n",
       "  </thead>\n",
       "  <tbody>\n",
       "    <tr>\n",
       "      <th>0</th>\n",
       "      <td>80</td>\n",
       "      <td>80000</td>\n",
       "      <td>1240</td>\n",
       "      <td>0</td>\n",
       "      <td>19</td>\n",
       "    </tr>\n",
       "    <tr>\n",
       "      <th>1</th>\n",
       "      <td>110</td>\n",
       "      <td>53000</td>\n",
       "      <td>1200</td>\n",
       "      <td>0</td>\n",
       "      <td>12</td>\n",
       "    </tr>\n",
       "    <tr>\n",
       "      <th>2</th>\n",
       "      <td>165</td>\n",
       "      <td>47690</td>\n",
       "      <td>2000</td>\n",
       "      <td>0</td>\n",
       "      <td>17</td>\n",
       "    </tr>\n",
       "    <tr>\n",
       "      <th>3</th>\n",
       "      <td>190</td>\n",
       "      <td>130661</td>\n",
       "      <td>1990</td>\n",
       "      <td>0</td>\n",
       "      <td>14</td>\n",
       "    </tr>\n",
       "    <tr>\n",
       "      <th>4</th>\n",
       "      <td>190</td>\n",
       "      <td>66300</td>\n",
       "      <td>660</td>\n",
       "      <td>0</td>\n",
       "      <td>16</td>\n",
       "    </tr>\n",
       "  </tbody>\n",
       "</table>\n",
       "</div>"
      ],
      "text/plain": [
       "   price  mileage  engine_capacity  fuel  No_of_yr\n",
       "0     80    80000             1240     0        19\n",
       "1    110    53000             1200     0        12\n",
       "2    165    47690             2000     0        17\n",
       "3    190   130661             1990     0        14\n",
       "4    190    66300              660     0        16"
      ]
     },
     "execution_count": 21,
     "metadata": {},
     "output_type": "execute_result"
    }
   ],
   "source": [
    "df=df.drop(['id','mark','model','transmission','drive','hand_drive'],axis=1)\n",
    "df.head()"
   ]
  },
  {
   "cell_type": "code",
   "execution_count": 22,
   "id": "daa91698",
   "metadata": {},
   "outputs": [],
   "source": [
    "# after above EDA, now we will check correlation between above features and label"
   ]
  },
  {
   "cell_type": "code",
   "execution_count": 23,
   "id": "2f02dc97",
   "metadata": {},
   "outputs": [
    {
     "data": {
      "text/html": [
       "<div>\n",
       "<style scoped>\n",
       "    .dataframe tbody tr th:only-of-type {\n",
       "        vertical-align: middle;\n",
       "    }\n",
       "\n",
       "    .dataframe tbody tr th {\n",
       "        vertical-align: top;\n",
       "    }\n",
       "\n",
       "    .dataframe thead th {\n",
       "        text-align: right;\n",
       "    }\n",
       "</style>\n",
       "<table border=\"1\" class=\"dataframe\">\n",
       "  <thead>\n",
       "    <tr style=\"text-align: right;\">\n",
       "      <th></th>\n",
       "      <th>price</th>\n",
       "      <th>mileage</th>\n",
       "      <th>engine_capacity</th>\n",
       "      <th>fuel</th>\n",
       "      <th>No_of_yr</th>\n",
       "    </tr>\n",
       "  </thead>\n",
       "  <tbody>\n",
       "    <tr>\n",
       "      <th>price</th>\n",
       "      <td>1.000000</td>\n",
       "      <td>0.021581</td>\n",
       "      <td>0.173748</td>\n",
       "      <td>0.046505</td>\n",
       "      <td>0.211092</td>\n",
       "    </tr>\n",
       "    <tr>\n",
       "      <th>mileage</th>\n",
       "      <td>0.021581</td>\n",
       "      <td>1.000000</td>\n",
       "      <td>0.130362</td>\n",
       "      <td>0.167041</td>\n",
       "      <td>-0.086065</td>\n",
       "    </tr>\n",
       "    <tr>\n",
       "      <th>engine_capacity</th>\n",
       "      <td>0.173748</td>\n",
       "      <td>0.130362</td>\n",
       "      <td>1.000000</td>\n",
       "      <td>0.091162</td>\n",
       "      <td>0.142460</td>\n",
       "    </tr>\n",
       "    <tr>\n",
       "      <th>fuel</th>\n",
       "      <td>0.046505</td>\n",
       "      <td>0.167041</td>\n",
       "      <td>0.091162</td>\n",
       "      <td>1.000000</td>\n",
       "      <td>0.065911</td>\n",
       "    </tr>\n",
       "    <tr>\n",
       "      <th>No_of_yr</th>\n",
       "      <td>0.211092</td>\n",
       "      <td>-0.086065</td>\n",
       "      <td>0.142460</td>\n",
       "      <td>0.065911</td>\n",
       "      <td>1.000000</td>\n",
       "    </tr>\n",
       "  </tbody>\n",
       "</table>\n",
       "</div>"
      ],
      "text/plain": [
       "                    price   mileage  engine_capacity      fuel  No_of_yr\n",
       "price            1.000000  0.021581         0.173748  0.046505  0.211092\n",
       "mileage          0.021581  1.000000         0.130362  0.167041 -0.086065\n",
       "engine_capacity  0.173748  0.130362         1.000000  0.091162  0.142460\n",
       "fuel             0.046505  0.167041         0.091162  1.000000  0.065911\n",
       "No_of_yr         0.211092 -0.086065         0.142460  0.065911  1.000000"
      ]
     },
     "execution_count": 23,
     "metadata": {},
     "output_type": "execute_result"
    }
   ],
   "source": [
    "df.corr()"
   ]
  },
  {
   "cell_type": "code",
   "execution_count": 24,
   "id": "8337030f",
   "metadata": {},
   "outputs": [],
   "source": [
    "# from above cor-relation showing that our target variable is positively correlate with milage, engine_capacity, fuel and no_of_yr.\n"
   ]
  },
  {
   "cell_type": "code",
   "execution_count": 25,
   "id": "7a8a0344",
   "metadata": {},
   "outputs": [],
   "source": [
    "# Checking cor-relation with heatmap"
   ]
  },
  {
   "cell_type": "code",
   "execution_count": 26,
   "id": "946eb2bc",
   "metadata": {},
   "outputs": [
    {
     "data": {
      "image/png": "[encoded data removed]",
      "text/plain": [
       "<Figure size 720x576 with 2 Axes>"
      ]
     },
     "metadata": {
      "needs_background": "light"
     },
     "output_type": "display_data"
    }
   ],
   "source": [
    "plt.figure(figsize=(10,8))\n",
    "sns.heatmap(df.corr(), annot=True, annot_kws={'size': 10})\n",
    "plt.xticks(fontsize=10)\n",
    "plt.yticks(fontsize=10)\n",
    "plt.show()"
   ]
  },
  {
   "cell_type": "code",
   "execution_count": 27,
   "id": "de6e99fe",
   "metadata": {},
   "outputs": [],
   "source": [
    "# Checking from above heatmap, showing that all the features are positively correlate with label (Price.)"
   ]
  },
  {
   "cell_type": "code",
   "execution_count": 28,
   "id": "afd419c7",
   "metadata": {},
   "outputs": [
    {
     "data": {
      "image/png": "[encoded data removed]",
      "text/plain": [
       "<Figure size 1080x1080 with 5 Axes>"
      ]
     },
     "metadata": {
      "needs_background": "light"
     },
     "output_type": "display_data"
    }
   ],
   "source": [
    "# Checking outliers thru boxplot .\n",
    "fig, ax = plt.subplots (ncols=5, nrows=1, figsize=(15,15))\n",
    "index = 0\n",
    "ax = ax.flatten()\n",
    "for col, value in df.items():\n",
    "    sns.boxplot(y=col, data=df, ax=ax[index])\n",
    "    index += 1\n",
    "\n",
    "plt.show()"
   ]
  },
  {
   "cell_type": "code",
   "execution_count": 29,
   "id": "b3cf00ea",
   "metadata": {},
   "outputs": [],
   "source": [
    "# Checking from aboe boxplot that outliers are available in every features. will deal with them."
   ]
  },
  {
   "cell_type": "code",
   "execution_count": 30,
   "id": "16e88920",
   "metadata": {},
   "outputs": [
    {
     "data": {
      "text/plain": [
       "(2318, 5)"
      ]
     },
     "execution_count": 30,
     "metadata": {},
     "output_type": "execute_result"
    }
   ],
   "source": [
    "df.shape"
   ]
  },
  {
   "cell_type": "code",
   "execution_count": 31,
   "id": "a6f4b425",
   "metadata": {},
   "outputs": [],
   "source": [
    "# find the IQR (Inter Quantile Range) to indentify outliers.\n",
    "\n",
    "#1st quantile\n",
    "\n",
    "q1=df.quantile(0.25)\n",
    "\n",
    "#3rd quantile\n",
    "\n",
    "q3=df.quantile(0.75)\n",
    "\n",
    "#IQR\n",
    "\n",
    "iqr=q3-q1\n"
   ]
  },
  {
   "cell_type": "markdown",
   "id": "2c3bfd97",
   "metadata": {},
   "source": [
    "# Outlier Formula\n",
    "1. Higher Side==>Q3+(1.5*IQR)\n",
    "2. Lower Side==>Q1-(1.5*IQR)\n"
   ]
  },
  {
   "cell_type": "code",
   "execution_count": 32,
   "id": "ec86fdc5",
   "metadata": {},
   "outputs": [
    {
     "data": {
      "text/plain": [
       "209500.0"
      ]
     },
     "execution_count": 32,
     "metadata": {},
     "output_type": "execute_result"
    }
   ],
   "source": [
    "# Validating one outlier (for mileage_high column)\n",
    "mileage_high=(q3.mileage+(1.5*iqr.mileage))\n",
    "mileage_high"
   ]
  },
  {
   "cell_type": "code",
   "execution_count": 33,
   "id": "6084d66c",
   "metadata": {},
   "outputs": [
    {
     "data": {
      "text/plain": [
       "(array([  90,  103,  171,  188,  190,  243,  268,  327,  351,  358,  359,\n",
       "         446,  459,  509,  515,  581,  749,  764,  811,  812,  818,  910,\n",
       "         971, 1001, 1076, 1134, 1209, 1325, 1382, 1459, 1521, 1572, 1587,\n",
       "        1609, 1668, 1713, 1729, 1779, 1962, 1975, 2070, 2103, 2147, 2195,\n",
       "        2210, 2310], dtype=int64),)"
      ]
     },
     "execution_count": 33,
     "metadata": {},
     "output_type": "execute_result"
    }
   ],
   "source": [
    "# Check the indexes where we found above cell\n",
    "index=np.where(df['mileage']>mileage_high)\n",
    "index"
   ]
  },
  {
   "cell_type": "code",
   "execution_count": 34,
   "id": "7034356b",
   "metadata": {},
   "outputs": [
    {
     "data": {
      "text/plain": [
       "(2272, 5)"
      ]
     },
     "execution_count": 34,
     "metadata": {},
     "output_type": "execute_result"
    }
   ],
   "source": [
    "# Drop above indexes which we found above milegae high\n",
    "df=df.drop(df.index[index])\n",
    "df.shape"
   ]
  },
  {
   "cell_type": "code",
   "execution_count": 35,
   "id": "03b81f30",
   "metadata": {},
   "outputs": [
    {
     "data": {
      "text/html": [
       "<div>\n",
       "<style scoped>\n",
       "    .dataframe tbody tr th:only-of-type {\n",
       "        vertical-align: middle;\n",
       "    }\n",
       "\n",
       "    .dataframe tbody tr th {\n",
       "        vertical-align: top;\n",
       "    }\n",
       "\n",
       "    .dataframe thead th {\n",
       "        text-align: right;\n",
       "    }\n",
       "</style>\n",
       "<table border=\"1\" class=\"dataframe\">\n",
       "  <thead>\n",
       "    <tr style=\"text-align: right;\">\n",
       "      <th></th>\n",
       "      <th>index</th>\n",
       "      <th>price</th>\n",
       "      <th>mileage</th>\n",
       "      <th>engine_capacity</th>\n",
       "      <th>fuel</th>\n",
       "      <th>No_of_yr</th>\n",
       "    </tr>\n",
       "  </thead>\n",
       "  <tbody>\n",
       "    <tr>\n",
       "      <th>0</th>\n",
       "      <td>0</td>\n",
       "      <td>80</td>\n",
       "      <td>80000</td>\n",
       "      <td>1240</td>\n",
       "      <td>0</td>\n",
       "      <td>19</td>\n",
       "    </tr>\n",
       "    <tr>\n",
       "      <th>1</th>\n",
       "      <td>1</td>\n",
       "      <td>110</td>\n",
       "      <td>53000</td>\n",
       "      <td>1200</td>\n",
       "      <td>0</td>\n",
       "      <td>12</td>\n",
       "    </tr>\n",
       "    <tr>\n",
       "      <th>2</th>\n",
       "      <td>2</td>\n",
       "      <td>165</td>\n",
       "      <td>47690</td>\n",
       "      <td>2000</td>\n",
       "      <td>0</td>\n",
       "      <td>17</td>\n",
       "    </tr>\n",
       "    <tr>\n",
       "      <th>3</th>\n",
       "      <td>3</td>\n",
       "      <td>190</td>\n",
       "      <td>130661</td>\n",
       "      <td>1990</td>\n",
       "      <td>0</td>\n",
       "      <td>14</td>\n",
       "    </tr>\n",
       "    <tr>\n",
       "      <th>4</th>\n",
       "      <td>4</td>\n",
       "      <td>190</td>\n",
       "      <td>66300</td>\n",
       "      <td>660</td>\n",
       "      <td>0</td>\n",
       "      <td>16</td>\n",
       "    </tr>\n",
       "    <tr>\n",
       "      <th>...</th>\n",
       "      <td>...</td>\n",
       "      <td>...</td>\n",
       "      <td>...</td>\n",
       "      <td>...</td>\n",
       "      <td>...</td>\n",
       "      <td>...</td>\n",
       "    </tr>\n",
       "    <tr>\n",
       "      <th>2267</th>\n",
       "      <td>2313</td>\n",
       "      <td>1400</td>\n",
       "      <td>121000</td>\n",
       "      <td>996</td>\n",
       "      <td>0</td>\n",
       "      <td>13</td>\n",
       "    </tr>\n",
       "    <tr>\n",
       "      <th>2268</th>\n",
       "      <td>2314</td>\n",
       "      <td>1400</td>\n",
       "      <td>101000</td>\n",
       "      <td>3000</td>\n",
       "      <td>0</td>\n",
       "      <td>19</td>\n",
       "    </tr>\n",
       "    <tr>\n",
       "      <th>2269</th>\n",
       "      <td>2315</td>\n",
       "      <td>1400</td>\n",
       "      <td>101000</td>\n",
       "      <td>660</td>\n",
       "      <td>0</td>\n",
       "      <td>17</td>\n",
       "    </tr>\n",
       "    <tr>\n",
       "      <th>2270</th>\n",
       "      <td>2316</td>\n",
       "      <td>1400</td>\n",
       "      <td>170000</td>\n",
       "      <td>660</td>\n",
       "      <td>0</td>\n",
       "      <td>22</td>\n",
       "    </tr>\n",
       "    <tr>\n",
       "      <th>2271</th>\n",
       "      <td>2317</td>\n",
       "      <td>1400</td>\n",
       "      <td>72320</td>\n",
       "      <td>3000</td>\n",
       "      <td>0</td>\n",
       "      <td>17</td>\n",
       "    </tr>\n",
       "  </tbody>\n",
       "</table>\n",
       "<p>2272 rows × 6 columns</p>\n",
       "</div>"
      ],
      "text/plain": [
       "      index  price  mileage  engine_capacity  fuel  No_of_yr\n",
       "0         0     80    80000             1240     0        19\n",
       "1         1    110    53000             1200     0        12\n",
       "2         2    165    47690             2000     0        17\n",
       "3         3    190   130661             1990     0        14\n",
       "4         4    190    66300              660     0        16\n",
       "...     ...    ...      ...              ...   ...       ...\n",
       "2267   2313   1400   121000              996     0        13\n",
       "2268   2314   1400   101000             3000     0        19\n",
       "2269   2315   1400   101000              660     0        17\n",
       "2270   2316   1400   170000              660     0        22\n",
       "2271   2317   1400    72320             3000     0        17\n",
       "\n",
       "[2272 rows x 6 columns]"
      ]
     },
     "execution_count": 35,
     "metadata": {},
     "output_type": "execute_result"
    }
   ],
   "source": [
    "# reset the index after deleting above index\n",
    "df.reset_index()"
   ]
  },
  {
   "cell_type": "code",
   "execution_count": 36,
   "id": "cfdb0486",
   "metadata": {},
   "outputs": [
    {
     "data": {
      "text/plain": [
       "2550.0"
      ]
     },
     "execution_count": 36,
     "metadata": {},
     "output_type": "execute_result"
    }
   ],
   "source": [
    "# Validating outlier (for engine_capacity column)\n",
    "engine_capacity_=(q3.engine_capacity+(1.5*iqr.engine_capacity))\n",
    "engine_capacity_"
   ]
  },
  {
   "cell_type": "code",
   "execution_count": 37,
   "id": "b09bc700",
   "metadata": {},
   "outputs": [
    {
     "data": {
      "text/plain": [
       "(array([   7,   58,  144,  444,  494,  495,  734,  735,  736,  739,  802,\n",
       "         821,  936,  996, 1020, 1057, 1059, 1229, 1276, 1422, 1460, 1550,\n",
       "        1635, 1637, 1735, 1775, 1791, 1799, 1904, 1944, 1986, 1997, 2000,\n",
       "        2001, 2085, 2145, 2168, 2261, 2268, 2271], dtype=int64),)"
      ]
     },
     "execution_count": 37,
     "metadata": {},
     "output_type": "execute_result"
    }
   ],
   "source": [
    "# Checking the indexes where we found above cell\n",
    "index_EC=np.where(df['engine_capacity']>engine_capacity_)\n",
    "index_EC"
   ]
  },
  {
   "cell_type": "code",
   "execution_count": 38,
   "id": "1c0337b5",
   "metadata": {},
   "outputs": [
    {
     "data": {
      "text/plain": [
       "(2232, 5)"
      ]
     },
     "execution_count": 38,
     "metadata": {},
     "output_type": "execute_result"
    }
   ],
   "source": [
    "# Drop above rows from data set.\n",
    "df=df.drop(df.index[index_EC])\n",
    "df.shape"
   ]
  },
  {
   "cell_type": "code",
   "execution_count": 39,
   "id": "03e32736",
   "metadata": {},
   "outputs": [
    {
     "data": {
      "text/html": [
       "<div>\n",
       "<style scoped>\n",
       "    .dataframe tbody tr th:only-of-type {\n",
       "        vertical-align: middle;\n",
       "    }\n",
       "\n",
       "    .dataframe tbody tr th {\n",
       "        vertical-align: top;\n",
       "    }\n",
       "\n",
       "    .dataframe thead th {\n",
       "        text-align: right;\n",
       "    }\n",
       "</style>\n",
       "<table border=\"1\" class=\"dataframe\">\n",
       "  <thead>\n",
       "    <tr style=\"text-align: right;\">\n",
       "      <th></th>\n",
       "      <th>index</th>\n",
       "      <th>price</th>\n",
       "      <th>mileage</th>\n",
       "      <th>engine_capacity</th>\n",
       "      <th>fuel</th>\n",
       "      <th>No_of_yr</th>\n",
       "    </tr>\n",
       "  </thead>\n",
       "  <tbody>\n",
       "    <tr>\n",
       "      <th>0</th>\n",
       "      <td>0</td>\n",
       "      <td>80</td>\n",
       "      <td>80000</td>\n",
       "      <td>1240</td>\n",
       "      <td>0</td>\n",
       "      <td>19</td>\n",
       "    </tr>\n",
       "    <tr>\n",
       "      <th>1</th>\n",
       "      <td>1</td>\n",
       "      <td>110</td>\n",
       "      <td>53000</td>\n",
       "      <td>1200</td>\n",
       "      <td>0</td>\n",
       "      <td>12</td>\n",
       "    </tr>\n",
       "    <tr>\n",
       "      <th>2</th>\n",
       "      <td>2</td>\n",
       "      <td>165</td>\n",
       "      <td>47690</td>\n",
       "      <td>2000</td>\n",
       "      <td>0</td>\n",
       "      <td>17</td>\n",
       "    </tr>\n",
       "    <tr>\n",
       "      <th>3</th>\n",
       "      <td>3</td>\n",
       "      <td>190</td>\n",
       "      <td>130661</td>\n",
       "      <td>1990</td>\n",
       "      <td>0</td>\n",
       "      <td>14</td>\n",
       "    </tr>\n",
       "    <tr>\n",
       "      <th>4</th>\n",
       "      <td>4</td>\n",
       "      <td>190</td>\n",
       "      <td>66300</td>\n",
       "      <td>660</td>\n",
       "      <td>0</td>\n",
       "      <td>16</td>\n",
       "    </tr>\n",
       "    <tr>\n",
       "      <th>...</th>\n",
       "      <td>...</td>\n",
       "      <td>...</td>\n",
       "      <td>...</td>\n",
       "      <td>...</td>\n",
       "      <td>...</td>\n",
       "      <td>...</td>\n",
       "    </tr>\n",
       "    <tr>\n",
       "      <th>2227</th>\n",
       "      <td>2311</td>\n",
       "      <td>1400</td>\n",
       "      <td>101874</td>\n",
       "      <td>2000</td>\n",
       "      <td>0</td>\n",
       "      <td>17</td>\n",
       "    </tr>\n",
       "    <tr>\n",
       "      <th>2228</th>\n",
       "      <td>2312</td>\n",
       "      <td>1400</td>\n",
       "      <td>112000</td>\n",
       "      <td>1300</td>\n",
       "      <td>0</td>\n",
       "      <td>15</td>\n",
       "    </tr>\n",
       "    <tr>\n",
       "      <th>2229</th>\n",
       "      <td>2313</td>\n",
       "      <td>1400</td>\n",
       "      <td>121000</td>\n",
       "      <td>996</td>\n",
       "      <td>0</td>\n",
       "      <td>13</td>\n",
       "    </tr>\n",
       "    <tr>\n",
       "      <th>2230</th>\n",
       "      <td>2315</td>\n",
       "      <td>1400</td>\n",
       "      <td>101000</td>\n",
       "      <td>660</td>\n",
       "      <td>0</td>\n",
       "      <td>17</td>\n",
       "    </tr>\n",
       "    <tr>\n",
       "      <th>2231</th>\n",
       "      <td>2316</td>\n",
       "      <td>1400</td>\n",
       "      <td>170000</td>\n",
       "      <td>660</td>\n",
       "      <td>0</td>\n",
       "      <td>22</td>\n",
       "    </tr>\n",
       "  </tbody>\n",
       "</table>\n",
       "<p>2232 rows × 6 columns</p>\n",
       "</div>"
      ],
      "text/plain": [
       "      index  price  mileage  engine_capacity  fuel  No_of_yr\n",
       "0         0     80    80000             1240     0        19\n",
       "1         1    110    53000             1200     0        12\n",
       "2         2    165    47690             2000     0        17\n",
       "3         3    190   130661             1990     0        14\n",
       "4         4    190    66300              660     0        16\n",
       "...     ...    ...      ...              ...   ...       ...\n",
       "2227   2311   1400   101874             2000     0        17\n",
       "2228   2312   1400   112000             1300     0        15\n",
       "2229   2313   1400   121000              996     0        13\n",
       "2230   2315   1400   101000              660     0        17\n",
       "2231   2316   1400   170000              660     0        22\n",
       "\n",
       "[2232 rows x 6 columns]"
      ]
     },
     "execution_count": 39,
     "metadata": {},
     "output_type": "execute_result"
    }
   ],
   "source": [
    "# Reset the data set after dropping above column.\n",
    "\n",
    "df.reset_index()"
   ]
  },
  {
   "cell_type": "code",
   "execution_count": 40,
   "id": "b2a8a6c1",
   "metadata": {},
   "outputs": [
    {
     "data": {
      "text/plain": [
       "550.0"
      ]
     },
     "execution_count": 40,
     "metadata": {},
     "output_type": "execute_result"
    }
   ],
   "source": [
    "# Validating outlier on lower side of engine Capacity\n",
    "engine_capacity_L=(q1.engine_capacity-(1.5*iqr.engine_capacity))\n",
    "engine_capacity_L"
   ]
  },
  {
   "cell_type": "code",
   "execution_count": 41,
   "id": "e07630c6",
   "metadata": {},
   "outputs": [
    {
     "data": {
      "text/plain": [
       "(array([22], dtype=int64),)"
      ]
     },
     "execution_count": 41,
     "metadata": {},
     "output_type": "execute_result"
    }
   ],
   "source": [
    "# checking the index where we found above cell of 77\n",
    "index_l=np.where(df['engine_capacity']<engine_capacity_L)\n",
    "index_l"
   ]
  },
  {
   "cell_type": "code",
   "execution_count": 42,
   "id": "54483715",
   "metadata": {},
   "outputs": [
    {
     "data": {
      "text/plain": [
       "(2231, 5)"
      ]
     },
     "execution_count": 42,
     "metadata": {},
     "output_type": "execute_result"
    }
   ],
   "source": [
    "# drop the index found in above cell.\n",
    "df=df.drop(df.index[index_l])\n",
    "df.shape"
   ]
  },
  {
   "cell_type": "code",
   "execution_count": 43,
   "id": "eb46ffd9",
   "metadata": {},
   "outputs": [
    {
     "data": {
      "text/html": [
       "<div>\n",
       "<style scoped>\n",
       "    .dataframe tbody tr th:only-of-type {\n",
       "        vertical-align: middle;\n",
       "    }\n",
       "\n",
       "    .dataframe tbody tr th {\n",
       "        vertical-align: top;\n",
       "    }\n",
       "\n",
       "    .dataframe thead th {\n",
       "        text-align: right;\n",
       "    }\n",
       "</style>\n",
       "<table border=\"1\" class=\"dataframe\">\n",
       "  <thead>\n",
       "    <tr style=\"text-align: right;\">\n",
       "      <th></th>\n",
       "      <th>index</th>\n",
       "      <th>price</th>\n",
       "      <th>mileage</th>\n",
       "      <th>engine_capacity</th>\n",
       "      <th>fuel</th>\n",
       "      <th>No_of_yr</th>\n",
       "    </tr>\n",
       "  </thead>\n",
       "  <tbody>\n",
       "    <tr>\n",
       "      <th>0</th>\n",
       "      <td>0</td>\n",
       "      <td>80</td>\n",
       "      <td>80000</td>\n",
       "      <td>1240</td>\n",
       "      <td>0</td>\n",
       "      <td>19</td>\n",
       "    </tr>\n",
       "    <tr>\n",
       "      <th>1</th>\n",
       "      <td>1</td>\n",
       "      <td>110</td>\n",
       "      <td>53000</td>\n",
       "      <td>1200</td>\n",
       "      <td>0</td>\n",
       "      <td>12</td>\n",
       "    </tr>\n",
       "    <tr>\n",
       "      <th>2</th>\n",
       "      <td>2</td>\n",
       "      <td>165</td>\n",
       "      <td>47690</td>\n",
       "      <td>2000</td>\n",
       "      <td>0</td>\n",
       "      <td>17</td>\n",
       "    </tr>\n",
       "    <tr>\n",
       "      <th>3</th>\n",
       "      <td>3</td>\n",
       "      <td>190</td>\n",
       "      <td>130661</td>\n",
       "      <td>1990</td>\n",
       "      <td>0</td>\n",
       "      <td>14</td>\n",
       "    </tr>\n",
       "    <tr>\n",
       "      <th>4</th>\n",
       "      <td>4</td>\n",
       "      <td>190</td>\n",
       "      <td>66300</td>\n",
       "      <td>660</td>\n",
       "      <td>0</td>\n",
       "      <td>16</td>\n",
       "    </tr>\n",
       "    <tr>\n",
       "      <th>...</th>\n",
       "      <td>...</td>\n",
       "      <td>...</td>\n",
       "      <td>...</td>\n",
       "      <td>...</td>\n",
       "      <td>...</td>\n",
       "      <td>...</td>\n",
       "    </tr>\n",
       "    <tr>\n",
       "      <th>2226</th>\n",
       "      <td>2311</td>\n",
       "      <td>1400</td>\n",
       "      <td>101874</td>\n",
       "      <td>2000</td>\n",
       "      <td>0</td>\n",
       "      <td>17</td>\n",
       "    </tr>\n",
       "    <tr>\n",
       "      <th>2227</th>\n",
       "      <td>2312</td>\n",
       "      <td>1400</td>\n",
       "      <td>112000</td>\n",
       "      <td>1300</td>\n",
       "      <td>0</td>\n",
       "      <td>15</td>\n",
       "    </tr>\n",
       "    <tr>\n",
       "      <th>2228</th>\n",
       "      <td>2313</td>\n",
       "      <td>1400</td>\n",
       "      <td>121000</td>\n",
       "      <td>996</td>\n",
       "      <td>0</td>\n",
       "      <td>13</td>\n",
       "    </tr>\n",
       "    <tr>\n",
       "      <th>2229</th>\n",
       "      <td>2315</td>\n",
       "      <td>1400</td>\n",
       "      <td>101000</td>\n",
       "      <td>660</td>\n",
       "      <td>0</td>\n",
       "      <td>17</td>\n",
       "    </tr>\n",
       "    <tr>\n",
       "      <th>2230</th>\n",
       "      <td>2316</td>\n",
       "      <td>1400</td>\n",
       "      <td>170000</td>\n",
       "      <td>660</td>\n",
       "      <td>0</td>\n",
       "      <td>22</td>\n",
       "    </tr>\n",
       "  </tbody>\n",
       "</table>\n",
       "<p>2231 rows × 6 columns</p>\n",
       "</div>"
      ],
      "text/plain": [
       "      index  price  mileage  engine_capacity  fuel  No_of_yr\n",
       "0         0     80    80000             1240     0        19\n",
       "1         1    110    53000             1200     0        12\n",
       "2         2    165    47690             2000     0        17\n",
       "3         3    190   130661             1990     0        14\n",
       "4         4    190    66300              660     0        16\n",
       "...     ...    ...      ...              ...   ...       ...\n",
       "2226   2311   1400   101874             2000     0        17\n",
       "2227   2312   1400   112000             1300     0        15\n",
       "2228   2313   1400   121000              996     0        13\n",
       "2229   2315   1400   101000              660     0        17\n",
       "2230   2316   1400   170000              660     0        22\n",
       "\n",
       "[2231 rows x 6 columns]"
      ]
     },
     "execution_count": 43,
     "metadata": {},
     "output_type": "execute_result"
    }
   ],
   "source": [
    "# Reset the data set after dropping above column.\n",
    "df.reset_index()"
   ]
  },
  {
   "cell_type": "code",
   "execution_count": 44,
   "id": "07a44175",
   "metadata": {},
   "outputs": [
    {
     "data": {
      "text/plain": [
       "0.0"
      ]
     },
     "execution_count": 44,
     "metadata": {},
     "output_type": "execute_result"
    }
   ],
   "source": [
    "# Validating outlier on fuel column\n",
    "fuel_high=(q3.fuel+(1.5*iqr.fuel))\n",
    "fuel_high"
   ]
  },
  {
   "cell_type": "code",
   "execution_count": 45,
   "id": "d479cdb1",
   "metadata": {},
   "outputs": [
    {
     "data": {
      "text/plain": [
       "(array([ 571,  718,  874,  942,  968, 1039, 1049, 1304, 1344, 1426, 1646,\n",
       "        1917, 1918, 1919, 2054, 2055, 2056, 2181, 2182, 2185], dtype=int64),)"
      ]
     },
     "execution_count": 45,
     "metadata": {},
     "output_type": "execute_result"
    }
   ],
   "source": [
    "# Checking the index no for above\n",
    "fuel_index=np.where(df['fuel']>fuel_high)\n",
    "fuel_index"
   ]
  },
  {
   "cell_type": "code",
   "execution_count": 46,
   "id": "e79a4b14",
   "metadata": {},
   "outputs": [
    {
     "data": {
      "text/plain": [
       "(2211, 5)"
      ]
     },
     "execution_count": 46,
     "metadata": {},
     "output_type": "execute_result"
    }
   ],
   "source": [
    "# Drop above indexed from data set.\n",
    "df=df.drop(df.index[fuel_index])\n",
    "df.shape"
   ]
  },
  {
   "cell_type": "code",
   "execution_count": 47,
   "id": "425657af",
   "metadata": {},
   "outputs": [
    {
     "data": {
      "text/html": [
       "<div>\n",
       "<style scoped>\n",
       "    .dataframe tbody tr th:only-of-type {\n",
       "        vertical-align: middle;\n",
       "    }\n",
       "\n",
       "    .dataframe tbody tr th {\n",
       "        vertical-align: top;\n",
       "    }\n",
       "\n",
       "    .dataframe thead th {\n",
       "        text-align: right;\n",
       "    }\n",
       "</style>\n",
       "<table border=\"1\" class=\"dataframe\">\n",
       "  <thead>\n",
       "    <tr style=\"text-align: right;\">\n",
       "      <th></th>\n",
       "      <th>index</th>\n",
       "      <th>price</th>\n",
       "      <th>mileage</th>\n",
       "      <th>engine_capacity</th>\n",
       "      <th>fuel</th>\n",
       "      <th>No_of_yr</th>\n",
       "    </tr>\n",
       "  </thead>\n",
       "  <tbody>\n",
       "    <tr>\n",
       "      <th>0</th>\n",
       "      <td>0</td>\n",
       "      <td>80</td>\n",
       "      <td>80000</td>\n",
       "      <td>1240</td>\n",
       "      <td>0</td>\n",
       "      <td>19</td>\n",
       "    </tr>\n",
       "    <tr>\n",
       "      <th>1</th>\n",
       "      <td>1</td>\n",
       "      <td>110</td>\n",
       "      <td>53000</td>\n",
       "      <td>1200</td>\n",
       "      <td>0</td>\n",
       "      <td>12</td>\n",
       "    </tr>\n",
       "    <tr>\n",
       "      <th>2</th>\n",
       "      <td>2</td>\n",
       "      <td>165</td>\n",
       "      <td>47690</td>\n",
       "      <td>2000</td>\n",
       "      <td>0</td>\n",
       "      <td>17</td>\n",
       "    </tr>\n",
       "    <tr>\n",
       "      <th>3</th>\n",
       "      <td>3</td>\n",
       "      <td>190</td>\n",
       "      <td>130661</td>\n",
       "      <td>1990</td>\n",
       "      <td>0</td>\n",
       "      <td>14</td>\n",
       "    </tr>\n",
       "    <tr>\n",
       "      <th>4</th>\n",
       "      <td>4</td>\n",
       "      <td>190</td>\n",
       "      <td>66300</td>\n",
       "      <td>660</td>\n",
       "      <td>0</td>\n",
       "      <td>16</td>\n",
       "    </tr>\n",
       "    <tr>\n",
       "      <th>...</th>\n",
       "      <td>...</td>\n",
       "      <td>...</td>\n",
       "      <td>...</td>\n",
       "      <td>...</td>\n",
       "      <td>...</td>\n",
       "      <td>...</td>\n",
       "    </tr>\n",
       "    <tr>\n",
       "      <th>2206</th>\n",
       "      <td>2311</td>\n",
       "      <td>1400</td>\n",
       "      <td>101874</td>\n",
       "      <td>2000</td>\n",
       "      <td>0</td>\n",
       "      <td>17</td>\n",
       "    </tr>\n",
       "    <tr>\n",
       "      <th>2207</th>\n",
       "      <td>2312</td>\n",
       "      <td>1400</td>\n",
       "      <td>112000</td>\n",
       "      <td>1300</td>\n",
       "      <td>0</td>\n",
       "      <td>15</td>\n",
       "    </tr>\n",
       "    <tr>\n",
       "      <th>2208</th>\n",
       "      <td>2313</td>\n",
       "      <td>1400</td>\n",
       "      <td>121000</td>\n",
       "      <td>996</td>\n",
       "      <td>0</td>\n",
       "      <td>13</td>\n",
       "    </tr>\n",
       "    <tr>\n",
       "      <th>2209</th>\n",
       "      <td>2315</td>\n",
       "      <td>1400</td>\n",
       "      <td>101000</td>\n",
       "      <td>660</td>\n",
       "      <td>0</td>\n",
       "      <td>17</td>\n",
       "    </tr>\n",
       "    <tr>\n",
       "      <th>2210</th>\n",
       "      <td>2316</td>\n",
       "      <td>1400</td>\n",
       "      <td>170000</td>\n",
       "      <td>660</td>\n",
       "      <td>0</td>\n",
       "      <td>22</td>\n",
       "    </tr>\n",
       "  </tbody>\n",
       "</table>\n",
       "<p>2211 rows × 6 columns</p>\n",
       "</div>"
      ],
      "text/plain": [
       "      index  price  mileage  engine_capacity  fuel  No_of_yr\n",
       "0         0     80    80000             1240     0        19\n",
       "1         1    110    53000             1200     0        12\n",
       "2         2    165    47690             2000     0        17\n",
       "3         3    190   130661             1990     0        14\n",
       "4         4    190    66300              660     0        16\n",
       "...     ...    ...      ...              ...   ...       ...\n",
       "2206   2311   1400   101874             2000     0        17\n",
       "2207   2312   1400   112000             1300     0        15\n",
       "2208   2313   1400   121000              996     0        13\n",
       "2209   2315   1400   101000              660     0        17\n",
       "2210   2316   1400   170000              660     0        22\n",
       "\n",
       "[2211 rows x 6 columns]"
      ]
     },
     "execution_count": 47,
     "metadata": {},
     "output_type": "execute_result"
    }
   ],
   "source": [
    "# Reset the data set after dropping above column.\n",
    "df.reset_index()"
   ]
  },
  {
   "cell_type": "code",
   "execution_count": 48,
   "id": "6e60e496",
   "metadata": {},
   "outputs": [
    {
     "data": {
      "text/plain": [
       "25.5"
      ]
     },
     "execution_count": 48,
     "metadata": {},
     "output_type": "execute_result"
    }
   ],
   "source": [
    "# Validating outlier on No_of_yr column\n",
    "\n",
    "No_of_yr_high=(q3.No_of_yr +(1.5*iqr.No_of_yr))\n",
    "No_of_yr_high"
   ]
  },
  {
   "cell_type": "code",
   "execution_count": 49,
   "id": "c9de93fe",
   "metadata": {},
   "outputs": [
    {
     "data": {
      "text/plain": [
       "(array([ 239,  301,  391,  429,  449,  716,  724,  826,  902, 1042, 1075,\n",
       "        1078, 1109, 1120, 1121, 1300, 1411, 1512, 1517, 1541, 1566, 1612,\n",
       "        1633, 1782, 1844, 1863, 1886, 1901, 1947, 2040, 2079, 2174],\n",
       "       dtype=int64),)"
      ]
     },
     "execution_count": 49,
     "metadata": {},
     "output_type": "execute_result"
    }
   ],
   "source": [
    "# Checking indexes for above.\n",
    "No_of_yr_index=np.where(df['No_of_yr']>No_of_yr_high)\n",
    "No_of_yr_index"
   ]
  },
  {
   "cell_type": "code",
   "execution_count": 50,
   "id": "98780df5",
   "metadata": {},
   "outputs": [
    {
     "data": {
      "text/html": [
       "<div>\n",
       "<style scoped>\n",
       "    .dataframe tbody tr th:only-of-type {\n",
       "        vertical-align: middle;\n",
       "    }\n",
       "\n",
       "    .dataframe tbody tr th {\n",
       "        vertical-align: top;\n",
       "    }\n",
       "\n",
       "    .dataframe thead th {\n",
       "        text-align: right;\n",
       "    }\n",
       "</style>\n",
       "<table border=\"1\" class=\"dataframe\">\n",
       "  <thead>\n",
       "    <tr style=\"text-align: right;\">\n",
       "      <th></th>\n",
       "      <th>price</th>\n",
       "      <th>mileage</th>\n",
       "      <th>engine_capacity</th>\n",
       "      <th>fuel</th>\n",
       "      <th>No_of_yr</th>\n",
       "    </tr>\n",
       "  </thead>\n",
       "  <tbody>\n",
       "    <tr>\n",
       "      <th>0</th>\n",
       "      <td>80</td>\n",
       "      <td>80000</td>\n",
       "      <td>1240</td>\n",
       "      <td>0</td>\n",
       "      <td>19</td>\n",
       "    </tr>\n",
       "    <tr>\n",
       "      <th>1</th>\n",
       "      <td>110</td>\n",
       "      <td>53000</td>\n",
       "      <td>1200</td>\n",
       "      <td>0</td>\n",
       "      <td>12</td>\n",
       "    </tr>\n",
       "    <tr>\n",
       "      <th>2</th>\n",
       "      <td>165</td>\n",
       "      <td>47690</td>\n",
       "      <td>2000</td>\n",
       "      <td>0</td>\n",
       "      <td>17</td>\n",
       "    </tr>\n",
       "    <tr>\n",
       "      <th>3</th>\n",
       "      <td>190</td>\n",
       "      <td>130661</td>\n",
       "      <td>1990</td>\n",
       "      <td>0</td>\n",
       "      <td>14</td>\n",
       "    </tr>\n",
       "    <tr>\n",
       "      <th>4</th>\n",
       "      <td>190</td>\n",
       "      <td>66300</td>\n",
       "      <td>660</td>\n",
       "      <td>0</td>\n",
       "      <td>16</td>\n",
       "    </tr>\n",
       "    <tr>\n",
       "      <th>...</th>\n",
       "      <td>...</td>\n",
       "      <td>...</td>\n",
       "      <td>...</td>\n",
       "      <td>...</td>\n",
       "      <td>...</td>\n",
       "    </tr>\n",
       "    <tr>\n",
       "      <th>2311</th>\n",
       "      <td>1400</td>\n",
       "      <td>101874</td>\n",
       "      <td>2000</td>\n",
       "      <td>0</td>\n",
       "      <td>17</td>\n",
       "    </tr>\n",
       "    <tr>\n",
       "      <th>2312</th>\n",
       "      <td>1400</td>\n",
       "      <td>112000</td>\n",
       "      <td>1300</td>\n",
       "      <td>0</td>\n",
       "      <td>15</td>\n",
       "    </tr>\n",
       "    <tr>\n",
       "      <th>2313</th>\n",
       "      <td>1400</td>\n",
       "      <td>121000</td>\n",
       "      <td>996</td>\n",
       "      <td>0</td>\n",
       "      <td>13</td>\n",
       "    </tr>\n",
       "    <tr>\n",
       "      <th>2315</th>\n",
       "      <td>1400</td>\n",
       "      <td>101000</td>\n",
       "      <td>660</td>\n",
       "      <td>0</td>\n",
       "      <td>17</td>\n",
       "    </tr>\n",
       "    <tr>\n",
       "      <th>2316</th>\n",
       "      <td>1400</td>\n",
       "      <td>170000</td>\n",
       "      <td>660</td>\n",
       "      <td>0</td>\n",
       "      <td>22</td>\n",
       "    </tr>\n",
       "  </tbody>\n",
       "</table>\n",
       "<p>2179 rows × 5 columns</p>\n",
       "</div>"
      ],
      "text/plain": [
       "      price  mileage  engine_capacity  fuel  No_of_yr\n",
       "0        80    80000             1240     0        19\n",
       "1       110    53000             1200     0        12\n",
       "2       165    47690             2000     0        17\n",
       "3       190   130661             1990     0        14\n",
       "4       190    66300              660     0        16\n",
       "...     ...      ...              ...   ...       ...\n",
       "2311   1400   101874             2000     0        17\n",
       "2312   1400   112000             1300     0        15\n",
       "2313   1400   121000              996     0        13\n",
       "2315   1400   101000              660     0        17\n",
       "2316   1400   170000              660     0        22\n",
       "\n",
       "[2179 rows x 5 columns]"
      ]
     },
     "execution_count": 50,
     "metadata": {},
     "output_type": "execute_result"
    }
   ],
   "source": [
    "# Dropping above indexes from data set.\n",
    "df=df.drop(df.index[No_of_yr_index])\n",
    "df"
   ]
  },
  {
   "cell_type": "code",
   "execution_count": 51,
   "id": "425b1f4e",
   "metadata": {},
   "outputs": [
    {
     "data": {
      "text/html": [
       "<div>\n",
       "<style scoped>\n",
       "    .dataframe tbody tr th:only-of-type {\n",
       "        vertical-align: middle;\n",
       "    }\n",
       "\n",
       "    .dataframe tbody tr th {\n",
       "        vertical-align: top;\n",
       "    }\n",
       "\n",
       "    .dataframe thead th {\n",
       "        text-align: right;\n",
       "    }\n",
       "</style>\n",
       "<table border=\"1\" class=\"dataframe\">\n",
       "  <thead>\n",
       "    <tr style=\"text-align: right;\">\n",
       "      <th></th>\n",
       "      <th>index</th>\n",
       "      <th>price</th>\n",
       "      <th>mileage</th>\n",
       "      <th>engine_capacity</th>\n",
       "      <th>fuel</th>\n",
       "      <th>No_of_yr</th>\n",
       "    </tr>\n",
       "  </thead>\n",
       "  <tbody>\n",
       "    <tr>\n",
       "      <th>0</th>\n",
       "      <td>0</td>\n",
       "      <td>80</td>\n",
       "      <td>80000</td>\n",
       "      <td>1240</td>\n",
       "      <td>0</td>\n",
       "      <td>19</td>\n",
       "    </tr>\n",
       "    <tr>\n",
       "      <th>1</th>\n",
       "      <td>1</td>\n",
       "      <td>110</td>\n",
       "      <td>53000</td>\n",
       "      <td>1200</td>\n",
       "      <td>0</td>\n",
       "      <td>12</td>\n",
       "    </tr>\n",
       "    <tr>\n",
       "      <th>2</th>\n",
       "      <td>2</td>\n",
       "      <td>165</td>\n",
       "      <td>47690</td>\n",
       "      <td>2000</td>\n",
       "      <td>0</td>\n",
       "      <td>17</td>\n",
       "    </tr>\n",
       "    <tr>\n",
       "      <th>3</th>\n",
       "      <td>3</td>\n",
       "      <td>190</td>\n",
       "      <td>130661</td>\n",
       "      <td>1990</td>\n",
       "      <td>0</td>\n",
       "      <td>14</td>\n",
       "    </tr>\n",
       "    <tr>\n",
       "      <th>4</th>\n",
       "      <td>4</td>\n",
       "      <td>190</td>\n",
       "      <td>66300</td>\n",
       "      <td>660</td>\n",
       "      <td>0</td>\n",
       "      <td>16</td>\n",
       "    </tr>\n",
       "    <tr>\n",
       "      <th>...</th>\n",
       "      <td>...</td>\n",
       "      <td>...</td>\n",
       "      <td>...</td>\n",
       "      <td>...</td>\n",
       "      <td>...</td>\n",
       "      <td>...</td>\n",
       "    </tr>\n",
       "    <tr>\n",
       "      <th>2174</th>\n",
       "      <td>2311</td>\n",
       "      <td>1400</td>\n",
       "      <td>101874</td>\n",
       "      <td>2000</td>\n",
       "      <td>0</td>\n",
       "      <td>17</td>\n",
       "    </tr>\n",
       "    <tr>\n",
       "      <th>2175</th>\n",
       "      <td>2312</td>\n",
       "      <td>1400</td>\n",
       "      <td>112000</td>\n",
       "      <td>1300</td>\n",
       "      <td>0</td>\n",
       "      <td>15</td>\n",
       "    </tr>\n",
       "    <tr>\n",
       "      <th>2176</th>\n",
       "      <td>2313</td>\n",
       "      <td>1400</td>\n",
       "      <td>121000</td>\n",
       "      <td>996</td>\n",
       "      <td>0</td>\n",
       "      <td>13</td>\n",
       "    </tr>\n",
       "    <tr>\n",
       "      <th>2177</th>\n",
       "      <td>2315</td>\n",
       "      <td>1400</td>\n",
       "      <td>101000</td>\n",
       "      <td>660</td>\n",
       "      <td>0</td>\n",
       "      <td>17</td>\n",
       "    </tr>\n",
       "    <tr>\n",
       "      <th>2178</th>\n",
       "      <td>2316</td>\n",
       "      <td>1400</td>\n",
       "      <td>170000</td>\n",
       "      <td>660</td>\n",
       "      <td>0</td>\n",
       "      <td>22</td>\n",
       "    </tr>\n",
       "  </tbody>\n",
       "</table>\n",
       "<p>2179 rows × 6 columns</p>\n",
       "</div>"
      ],
      "text/plain": [
       "      index  price  mileage  engine_capacity  fuel  No_of_yr\n",
       "0         0     80    80000             1240     0        19\n",
       "1         1    110    53000             1200     0        12\n",
       "2         2    165    47690             2000     0        17\n",
       "3         3    190   130661             1990     0        14\n",
       "4         4    190    66300              660     0        16\n",
       "...     ...    ...      ...              ...   ...       ...\n",
       "2174   2311   1400   101874             2000     0        17\n",
       "2175   2312   1400   112000             1300     0        15\n",
       "2176   2313   1400   121000              996     0        13\n",
       "2177   2315   1400   101000              660     0        17\n",
       "2178   2316   1400   170000              660     0        22\n",
       "\n",
       "[2179 rows x 6 columns]"
      ]
     },
     "execution_count": 51,
     "metadata": {},
     "output_type": "execute_result"
    }
   ],
   "source": [
    "# Reset the data set after dropping above column.\n",
    "df.reset_index()"
   ]
  },
  {
   "cell_type": "code",
   "execution_count": 52,
   "id": "14ca2a1d",
   "metadata": {},
   "outputs": [
    {
     "data": {
      "image/png": "[encoded data removed]",
      "text/plain": [
       "<Figure size 1080x1080 with 5 Axes>"
      ]
     },
     "metadata": {
      "needs_background": "light"
     },
     "output_type": "display_data"
    }
   ],
   "source": [
    "# Checking again outliers thru boxplot .\n",
    "\n",
    "fig, ax = plt.subplots (ncols=5, nrows=1, figsize=(15,15))\n",
    "index = 0\n",
    "ax = ax.flatten()\n",
    "for col, value in df.items():\n",
    "    sns.boxplot(y=col, data=df, ax=ax[index])\n",
    "    index += 1\n",
    "\n",
    "plt.show()"
   ]
  },
  {
   "cell_type": "markdown",
   "id": "365422fc",
   "metadata": {},
   "source": [
    "# Checking Multicollinearity problem"
   ]
  },
  {
   "cell_type": "code",
   "execution_count": 53,
   "id": "b33d251d",
   "metadata": {},
   "outputs": [],
   "source": [
    "# seperate features and label, also deleting fuel column.\n",
    "x=df.drop(['price','fuel'],axis=1)\n",
    "y=df['price']"
   ]
  },
  {
   "cell_type": "code",
   "execution_count": 54,
   "id": "f30b55f1",
   "metadata": {},
   "outputs": [],
   "source": [
    "# import StandardScaler\n",
    "from sklearn.preprocessing import StandardScaler"
   ]
  },
  {
   "cell_type": "code",
   "execution_count": 55,
   "id": "d40081ac",
   "metadata": {},
   "outputs": [],
   "source": [
    "#Intiliazed StandardScaler\n",
    "scalar=StandardScaler()\n",
    "x_scaled=scalar.fit_transform(x)"
   ]
  },
  {
   "cell_type": "code",
   "execution_count": 56,
   "id": "3216aaf4",
   "metadata": {},
   "outputs": [
    {
     "data": {
      "text/plain": [
       "(2179, 3)"
      ]
     },
     "execution_count": 56,
     "metadata": {},
     "output_type": "execute_result"
    }
   ],
   "source": [
    "x_scaled.shape"
   ]
  },
  {
   "cell_type": "code",
   "execution_count": 57,
   "id": "42456545",
   "metadata": {},
   "outputs": [],
   "source": [
    "# Finding VIF(Variance Inflation Factor) in each sclaed column\n",
    "from statsmodels.stats.outliers_influence import variance_inflation_factor"
   ]
  },
  {
   "cell_type": "code",
   "execution_count": 58,
   "id": "069e28d1",
   "metadata": {},
   "outputs": [
    {
     "data": {
      "text/html": [
       "<div>\n",
       "<style scoped>\n",
       "    .dataframe tbody tr th:only-of-type {\n",
       "        vertical-align: middle;\n",
       "    }\n",
       "\n",
       "    .dataframe tbody tr th {\n",
       "        vertical-align: top;\n",
       "    }\n",
       "\n",
       "    .dataframe thead th {\n",
       "        text-align: right;\n",
       "    }\n",
       "</style>\n",
       "<table border=\"1\" class=\"dataframe\">\n",
       "  <thead>\n",
       "    <tr style=\"text-align: right;\">\n",
       "      <th></th>\n",
       "      <th>vif</th>\n",
       "      <th>Features</th>\n",
       "    </tr>\n",
       "  </thead>\n",
       "  <tbody>\n",
       "    <tr>\n",
       "      <th>0</th>\n",
       "      <td>1.019236</td>\n",
       "      <td>mileage</td>\n",
       "    </tr>\n",
       "    <tr>\n",
       "      <th>1</th>\n",
       "      <td>1.068758</td>\n",
       "      <td>engine_capacity</td>\n",
       "    </tr>\n",
       "    <tr>\n",
       "      <th>2</th>\n",
       "      <td>1.068504</td>\n",
       "      <td>No_of_yr</td>\n",
       "    </tr>\n",
       "  </tbody>\n",
       "</table>\n",
       "</div>"
      ],
      "text/plain": [
       "        vif         Features\n",
       "0  1.019236          mileage\n",
       "1  1.068758  engine_capacity\n",
       "2  1.068504         No_of_yr"
      ]
     },
     "execution_count": 58,
     "metadata": {},
     "output_type": "execute_result"
    }
   ],
   "source": [
    "vif=pd.DataFrame()\n",
    "vif['vif']=[variance_inflation_factor(x_scaled,i) for i in range(x_scaled.shape[1])]\n",
    "vif['Features']=x.columns\n",
    "vif"
   ]
  },
  {
   "cell_type": "markdown",
   "id": "6b29f9e3",
   "metadata": {},
   "source": [
    "As the VIF factor is less then 5. so this dataset has no Multicollinearity problem."
   ]
  },
  {
   "cell_type": "markdown",
   "id": "ebf8939c",
   "metadata": {},
   "source": [
    "# Train Test Split"
   ]
  },
  {
   "cell_type": "code",
   "execution_count": 59,
   "id": "e8898b95",
   "metadata": {},
   "outputs": [],
   "source": [
    "from sklearn.model_selection import train_test_split"
   ]
  },
  {
   "cell_type": "code",
   "execution_count": 101,
   "id": "c49959ed",
   "metadata": {},
   "outputs": [],
   "source": [
    "x_train,x_test,y_train,y_test=train_test_split(x_scaled,y,test_size=0.25,random_state=321)"
   ]
  },
  {
   "cell_type": "code",
   "execution_count": 102,
   "id": "56e86781",
   "metadata": {},
   "outputs": [
    {
     "name": "stdout",
     "output_type": "stream",
     "text": [
      "(1634, 3)\n",
      "(1634,)\n",
      "(545, 3)\n"
     ]
    }
   ],
   "source": [
    "#Checking train and test data set shape\n",
    "print(x_train.shape)\n",
    "print(y_train.shape)\n",
    "print(x_test.shape)\n"
   ]
  },
  {
   "cell_type": "code",
   "execution_count": 103,
   "id": "0e3d6091",
   "metadata": {},
   "outputs": [],
   "source": [
    "# Import Linear regression.\n",
    "# Although our target variable is price which is continuous in nature. so we are using Linear Regression to predict the label.\n",
    "from sklearn.linear_model import LinearRegression"
   ]
  },
  {
   "cell_type": "code",
   "execution_count": 105,
   "id": "2e979850",
   "metadata": {},
   "outputs": [],
   "source": [
    "#Initialized LinearRegression\n",
    "lm=LinearRegression()"
   ]
  },
  {
   "cell_type": "code",
   "execution_count": 106,
   "id": "877212e1",
   "metadata": {},
   "outputs": [
    {
     "data": {
      "text/html": [
       "<style>#sk-container-id-5 {color: black;background-color: white;}#sk-container-id-5 pre{padding: 0;}#sk-container-id-5 div.sk-toggleable {background-color: white;}#sk-container-id-5 label.sk-toggleable__label {cursor: pointer;display: block;width: 100%;margin-bottom: 0;padding: 0.3em;box-sizing: border-box;text-align: center;}#sk-container-id-5 label.sk-toggleable__label-arrow:before {content: \"▸\";float: left;margin-right: 0.25em;color: #696969;}#sk-container-id-5 label.sk-toggleable__label-arrow:hover:before {color: black;}#sk-container-id-5 div.sk-estimator:hover label.sk-toggleable__label-arrow:before {color: black;}#sk-container-id-5 div.sk-toggleable__content {max-height: 0;max-width: 0;overflow: hidden;text-align: left;background-color: #f0f8ff;}#sk-container-id-5 div.sk-toggleable__content pre {margin: 0.2em;color: black;border-radius: 0.25em;background-color: #f0f8ff;}#sk-container-id-5 input.sk-toggleable__control:checked~div.sk-toggleable__content {max-height: 200px;max-width: 100%;overflow: auto;}#sk-container-id-5 input.sk-toggleable__control:checked~label.sk-toggleable__label-arrow:before {content: \"▾\";}#sk-container-id-5 div.sk-estimator input.sk-toggleable__control:checked~label.sk-toggleable__label {background-color: #d4ebff;}#sk-container-id-5 div.sk-label input.sk-toggleable__control:checked~label.sk-toggleable__label {background-color: #d4ebff;}#sk-container-id-5 input.sk-hidden--visually {border: 0;clip: rect(1px 1px 1px 1px);clip: rect(1px, 1px, 1px, 1px);height: 1px;margin: -1px;overflow: hidden;padding: 0;position: absolute;width: 1px;}#sk-container-id-5 div.sk-estimator {font-family: monospace;background-color: #f0f8ff;border: 1px dotted black;border-radius: 0.25em;box-sizing: border-box;margin-bottom: 0.5em;}#sk-container-id-5 div.sk-estimator:hover {background-color: #d4ebff;}#sk-container-id-5 div.sk-parallel-item::after {content: \"\";width: 100%;border-bottom: 1px solid gray;flex-grow: 1;}#sk-container-id-5 div.sk-label:hover label.sk-toggleable__label {background-color: #d4ebff;}#sk-container-id-5 div.sk-serial::before {content: \"\";position: absolute;border-left: 1px solid gray;box-sizing: border-box;top: 0;bottom: 0;left: 50%;z-index: 0;}#sk-container-id-5 div.sk-serial {display: flex;flex-direction: column;align-items: center;background-color: white;padding-right: 0.2em;padding-left: 0.2em;position: relative;}#sk-container-id-5 div.sk-item {position: relative;z-index: 1;}#sk-container-id-5 div.sk-parallel {display: flex;align-items: stretch;justify-content: center;background-color: white;position: relative;}#sk-container-id-5 div.sk-item::before, #sk-container-id-5 div.sk-parallel-item::before {content: \"\";position: absolute;border-left: 1px solid gray;box-sizing: border-box;top: 0;bottom: 0;left: 50%;z-index: -1;}#sk-container-id-5 div.sk-parallel-item {display: flex;flex-direction: column;z-index: 1;position: relative;background-color: white;}#sk-container-id-5 div.sk-parallel-item:first-child::after {align-self: flex-end;width: 50%;}#sk-container-id-5 div.sk-parallel-item:last-child::after {align-self: flex-start;width: 50%;}#sk-container-id-5 div.sk-parallel-item:only-child::after {width: 0;}#sk-container-id-5 div.sk-dashed-wrapped {border: 1px dashed gray;margin: 0 0.4em 0.5em 0.4em;box-sizing: border-box;padding-bottom: 0.4em;background-color: white;}#sk-container-id-5 div.sk-label label {font-family: monospace;font-weight: bold;display: inline-block;line-height: 1.2em;}#sk-container-id-5 div.sk-label-container {text-align: center;}#sk-container-id-5 div.sk-container {/* jupyter's `normalize.less` sets `[hidden] { display: none; }` but bootstrap.min.css set `[hidden] { display: none !important; }` so we also need the `!important` here to be able to override the default hidden behavior on the sphinx rendered scikit-learn.org. See: https://github.com/scikit-learn/scikit-learn/issues/21755 */display: inline-block !important;position: relative;}#sk-container-id-5 div.sk-text-repr-fallback {display: none;}</style><div id=\"sk-container-id-5\" class=\"sk-top-container\"><div class=\"sk-text-repr-fallback\"><pre>LinearRegression()</pre><b>In a Jupyter environment, please rerun this cell to show the HTML representation or trust the notebook. <br />On GitHub, the HTML representation is unable to render, please try loading this page with nbviewer.org.</b></div><div class=\"sk-container\" hidden><div class=\"sk-item\"><div class=\"sk-estimator sk-toggleable\"><input class=\"sk-toggleable__control sk-hidden--visually\" id=\"sk-estimator-id-5\" type=\"checkbox\" checked><label for=\"sk-estimator-id-5\" class=\"sk-toggleable__label sk-toggleable__label-arrow\">LinearRegression</label><div class=\"sk-toggleable__content\"><pre>LinearRegression()</pre></div></div></div></div></div>"
      ],
      "text/plain": [
       "LinearRegression()"
      ]
     },
     "execution_count": 106,
     "metadata": {},
     "output_type": "execute_result"
    }
   ],
   "source": [
    "# Trained the model.\n",
    "lm.fit(x_train,y_train)"
   ]
  },
  {
   "cell_type": "code",
   "execution_count": 107,
   "id": "0728a9ca",
   "metadata": {},
   "outputs": [
    {
     "data": {
      "text/plain": [
       "0.07759798700220366"
      ]
     },
     "execution_count": 107,
     "metadata": {},
     "output_type": "execute_result"
    }
   ],
   "source": [
    "# Checking the score (Adjusted R2 Score)\n",
    "lm.score(x_train,y_train)"
   ]
  },
  {
   "cell_type": "code",
   "execution_count": 108,
   "id": "66388687",
   "metadata": {},
   "outputs": [
    {
     "data": {
      "text/plain": [
       "0.06452031987801377"
      ]
     },
     "execution_count": 108,
     "metadata": {},
     "output_type": "execute_result"
    }
   ],
   "source": [
    "# Checking Test Data with Regression model:\n",
    "lm.score(x_test,y_test)"
   ]
  },
  {
   "cell_type": "code",
   "execution_count": 109,
   "id": "325cef02",
   "metadata": {},
   "outputs": [],
   "source": [
    "# Predict the label with our model.\n",
    "y_pred=lm.predict(x_test)"
   ]
  },
  {
   "cell_type": "code",
   "execution_count": 110,
   "id": "ff258667",
   "metadata": {},
   "outputs": [
    {
     "data": {
      "text/plain": [
       "array([ 909.11151302, 1025.43577627,  862.29854246,  938.04760864,\n",
       "        778.94442376, 1164.38024297,  945.15510027,  918.53341213,\n",
       "        958.09982255, 1108.80214518,  908.83887453,  893.97597734,\n",
       "       1027.43015075, 1037.60263125, 1033.79822566, 1126.31366133,\n",
       "        998.064561  , 1055.59658603, 1074.79590965,  974.02734496,\n",
       "        931.3753882 ,  849.62327438, 1063.04653891,  878.09556355,\n",
       "       1006.57455836, 1066.84821028,  927.95330184,  964.97047241,\n",
       "        766.81215637, 1036.97684446, 1055.95133069, 1154.05894708,\n",
       "        952.68868876, 1028.80248047, 1079.04937623,  899.56849921,\n",
       "        899.84217611, 1083.42418665,  901.26115475, 1039.89586951,\n",
       "        962.0020417 ,  945.15510027,  941.43028133,  910.76175617,\n",
       "        978.84806048,  918.41158885,  927.12070822, 1032.87411582,\n",
       "       1121.78292239, 1054.70972438,  920.27911629, 1004.11036087,\n",
       "        868.48318287, 1162.6660175 ,  973.10041127,  954.9698743 ,\n",
       "       1032.89742194,  910.82065558,  993.11610388,  904.09911204,\n",
       "        908.12649943,  953.60775957, 1018.90736039,  969.90009092,\n",
       "       1160.65542404,  895.89902595, 1082.17310926,  950.29718313,\n",
       "        900.86331722,  820.11537216,  935.20965136,  846.14677671,\n",
       "        938.78812401,  999.8382843 ,  915.81656954,  886.62031911,\n",
       "       1037.16907977,  932.98148604, 1024.7366984 , 1101.99188467,\n",
       "       1113.64206713,  869.2515378 , 1010.94255705, 1017.79076165,\n",
       "       1019.48809151,  872.95176598,  981.86069269,  968.79042691,\n",
       "        960.24263204,  963.43361927, 1111.51939636, 1106.71246825,\n",
       "        943.54351249,  983.28501159,  903.87864684,  971.01201535,\n",
       "        933.34563144,  945.45951609,  860.24102343,  977.83323165,\n",
       "       1031.17672436,  974.46315738,  934.32278971,  925.74238913,\n",
       "        951.22380699,  980.72178496,  875.96868334, 1101.38815915,\n",
       "        857.38244605,  999.33690624, 1037.7018359 ,  912.03212012,\n",
       "        948.91065813, 1005.67163703,  919.31367009,  887.24874067,\n",
       "        987.34115343,  923.37603407,  970.65727069,  884.26091237,\n",
       "       1094.88367444, 1120.17414125,  949.28327799,  882.17512715,\n",
       "        938.57708724, 1070.6841178 , 1081.87240104,  900.98747785,\n",
       "        954.86024959,  826.01161927,  841.85910186,  932.84259852,\n",
       "       1075.45819884,  978.81639787,  996.40699749,  929.38946359,\n",
       "        931.92064485,  939.95009015,  891.09130145,  939.99606588,\n",
       "        989.41929256, 1028.46455467,  967.07146675,  904.58103266,\n",
       "        965.88011032, 1013.42867338,  850.00663998,  971.23536341,\n",
       "        983.01842098,  887.7132339 ,  969.28690617, 1111.97659662,\n",
       "        986.6207804 ,  952.41251144, 1012.52206626,  905.91881107,\n",
       "       1075.29579839, 1080.74112892, 1035.25782256, 1049.92067146,\n",
       "       1020.11651307,  857.02770139,  929.40406351,  949.58626073,\n",
       "        970.50185914,  815.77448561,  846.74010624,  897.03931086,\n",
       "       1035.17206671,  881.11089317,  861.71321377, 1046.72796952,\n",
       "       1091.91123263,  912.71540032, 1072.63521344, 1008.73763974,\n",
       "       1034.67364256,  949.07714675, 1007.02948208,  965.41716854,\n",
       "        979.12345209,  964.62661146, 1047.03355054, 1007.8371223 ,\n",
       "       1028.32281217,  998.99898044,  815.84189862,  979.35223968,\n",
       "        895.7652731 ,  919.54138847,  969.79204846,  837.24742127,\n",
       "        927.49192449,  892.31875996,  945.73583138,  827.60900885,\n",
       "        888.93259832, 1087.03572866,  906.71200655, 1009.49981913,\n",
       "       1025.37742077,  944.80035561,  845.77753242,  922.8458971 ,\n",
       "       1050.1426795 ,  992.21127411, 1000.6549619 ,  903.96828386,\n",
       "       1069.67793809,  980.60100488,  786.55369672, 1035.17984048,\n",
       "       1070.27156698, 1027.80381213,  905.77653077,  837.97464782,\n",
       "        961.42302581,  965.51347311, 1015.33411858,  954.76394502,\n",
       "        878.51028207,  783.44968094,  996.38700962,  908.73516523,\n",
       "       1024.2182735 ,  931.66220476, 1044.94336251,  892.16919018,\n",
       "       1049.27965149,  947.84642415, 1072.9899581 ,  979.2829597 ,\n",
       "        917.8027572 , 1064.88822694,  949.97489211, 1058.17175012,\n",
       "        884.33683977,  902.76120116,  971.898877  ,  894.92436499,\n",
       "       1094.30537664,  973.18789523,  991.94181765, 1067.2833046 ,\n",
       "       1014.80203789,  920.32272769, 1024.08897076,  972.63989627,\n",
       "       1025.51782705,  923.33946218,  927.58173832, 1023.13672738,\n",
       "       1033.34550935, 1052.52910895,  885.60786924,  874.17221147,\n",
       "       1095.42320476,  881.32493958,  878.62768054,  849.57806352,\n",
       "        923.08159911,  923.03665888,  926.76015156,  948.34780221,\n",
       "       1031.44793526,  970.13565496,  927.0856162 ,  976.15581292,\n",
       "        958.23032387, 1063.10399377,  986.42645655, 1005.12598623,\n",
       "        903.25499712,  883.94885045,  981.08543143,  855.12258149,\n",
       "        878.50063705,  850.90129741,  888.74878707,  894.92436499,\n",
       "        984.7004237 ,  930.09862017, 1031.16300269,  867.38989321,\n",
       "        895.05982102,  953.52233871, 1153.05915276,  974.60722862,\n",
       "       1006.00799483, 1071.92572411,  858.31528343,  960.30846299,\n",
       "        895.36157368,  978.84726945,  941.34159517,  931.79096296,\n",
       "        989.01857216, 1055.21110244, 1005.73569957,  900.94977359,\n",
       "        969.47089822,  954.45781449,  987.37624546, 1107.11192795,\n",
       "        865.14738345,  874.88246379, 1062.14995291, 1068.18566837,\n",
       "       1120.38102138,  786.78489097,  992.95150235, 1025.74114742,\n",
       "        975.80106826,  971.88799329, 1141.77220561,  955.25615324,\n",
       "       1032.69339071, 1088.77609548, 1034.72671629, 1052.96475999,\n",
       "       1121.4585755 ,  871.32715431,  883.38202387,  945.45951609,\n",
       "        938.70848384,  892.68911339, 1004.36282932,  776.00004308,\n",
       "        931.66391947,  876.26347615,  822.63879479,  964.93366568,\n",
       "        934.62892024,  932.80854802,  952.28197401,  981.75464675,\n",
       "        987.74451222,  955.43670967,  959.32474175, 1016.61847162,\n",
       "        826.42770913,  949.41203619,  949.05592607,  989.23261858,\n",
       "        830.40084933, 1007.83092287,  903.48791468,  928.01330428,\n",
       "        918.41409458,  925.22659039, 1107.27207795,  916.51517515,\n",
       "        938.96922116,  921.90844131, 1016.97321628,  938.75709796,\n",
       "        972.14099883,  829.04477256, 1019.39086326, 1021.45972551,\n",
       "        933.81300753,  903.47069048,  990.08280614, 1009.43489225,\n",
       "       1015.37686531, 1039.92284919, 1013.17194799, 1107.45851348,\n",
       "       1022.68275263,  988.52312925,  921.09464657,  956.23153779,\n",
       "        975.75158999,  932.33474162,  954.94131735,  898.3268929 ,\n",
       "        942.19049416, 1022.28831837,  779.59183276, 1007.74873549,\n",
       "        881.02859241, 1099.91110716, 1057.82897697,  938.17636685,\n",
       "        890.39375217, 1139.51046703,  969.50789799,  942.8799989 ,\n",
       "        823.6791475 , 1045.73220488,  980.25878966, 1038.94344221,\n",
       "       1030.93688358,  920.16056448, 1027.70750756,  906.80567272,\n",
       "        882.70724414,  969.51460734,  877.55215329, 1039.63307631,\n",
       "        966.13048614,  988.9375044 , 1029.06673373,  915.54868193,\n",
       "        967.99668573,  978.49674524,  834.7165182 ,  946.75145124,\n",
       "        888.01144169,  909.8520788 ,  881.03706137, 1002.60339507,\n",
       "        897.48315473,  921.23039179, 1065.33728017,  961.67305549,\n",
       "        935.56175763,  921.92829652, 1076.90896822,  976.20442705,\n",
       "        889.66889339, 1026.53796793, 1068.00487725,  966.92695133,\n",
       "       1004.23433553,  998.24193333, 1070.85249766, 1073.68531114,\n",
       "        960.69658497, 1049.08242394, 1037.62444805, 1005.63114263,\n",
       "        848.8685742 , 1083.64568204,  929.57309934, 1053.96777592,\n",
       "       1055.85331141,  930.82567194,  964.62661146,  998.51244814,\n",
       "       1007.26635224,  914.30128633,  906.82090953, 1012.03682047,\n",
       "       1046.07316214,  964.56063756,  851.32681363,  977.57479156,\n",
       "        970.30252603,  902.28675218,  901.31148359, 1101.01881645,\n",
       "        861.33061305, 1034.90053807,  935.31783437, 1055.22676472,\n",
       "       1001.41901791,  993.77517144,  825.12489028,  887.41526559,\n",
       "        921.88232079,  972.76144725, 1101.50457526,  872.69332589,\n",
       "        884.93201667, 1030.88325798,  939.81797837,  931.08147364,\n",
       "        962.50695672, 1011.80158348,  891.79780882,  897.18605608,\n",
       "        994.38507904,  938.11841961,  952.35097184, 1065.86432596,\n",
       "       1074.50537396,  874.46704919,  897.89108048, 1045.14580834,\n",
       "        998.32128638, 1011.64103001,  849.92020976,  848.51382954,\n",
       "        890.80998103,  992.71678525,  769.88069769,  955.31397662,\n",
       "        893.98658338,  867.36127227, 1007.2154218 ,  874.77581812,\n",
       "        916.65468441, 1110.62564611,  940.8369518 ,  940.42257665,\n",
       "        987.57375067,  923.4302959 ,  995.73263837,  962.88623228,\n",
       "       1026.5418166 ,  989.37331682,  950.36288143, 1089.08051131,\n",
       "       1019.52791856,  883.0619888 , 1074.07101094,  905.22455856,\n",
       "       1082.93553966, 1067.12143439, 1009.24990151,  910.70824643,\n",
       "        828.53099022,  865.92368863,  901.87433951, 1037.99510271,\n",
       "        941.19169646, 1037.06182302,  885.98542963,  912.31945177,\n",
       "       1064.84530284,  907.96477871, 1027.71389296,  962.92285802,\n",
       "        992.92076343, 1065.68695363,  894.88835841,  948.8799192 ,\n",
       "       1040.94024827, 1045.19703743,  952.68409119, 1080.02778232,\n",
       "        865.77491815,  959.42265128,  835.82844263,  941.40438497,\n",
       "        990.56932984,  978.63902554, 1077.57893502,  831.97946306,\n",
       "        997.75843047, 1084.47933199,  992.56601877,  899.24251346,\n",
       "       1075.11842606])"
      ]
     },
     "execution_count": 110,
     "metadata": {},
     "output_type": "execute_result"
    }
   ],
   "source": [
    "y_pred"
   ]
  },
  {
   "cell_type": "code",
   "execution_count": 93,
   "id": "66a235e7",
   "metadata": {},
   "outputs": [
    {
     "data": {
      "text/plain": [
       "<matplotlib.collections.PathCollection at 0x2c914163760>"
      ]
     },
     "execution_count": 93,
     "metadata": {},
     "output_type": "execute_result"
    },
    {
     "data": {
      "image/png": "[encoded data removed]",
      "text/plain": [
       "<Figure size 432x288 with 1 Axes>"
      ]
     },
     "metadata": {
      "needs_background": "light"
     },
     "output_type": "display_data"
    }
   ],
   "source": [
    "plt.scatter(y_test,y_pred)"
   ]
  },
  {
   "cell_type": "markdown",
   "id": "351d00ac",
   "metadata": {},
   "source": [
    "# Checking the model with LASSO"
   ]
  },
  {
   "cell_type": "code",
   "execution_count": 118,
   "id": "20fea3c4",
   "metadata": {},
   "outputs": [],
   "source": [
    "from sklearn.linear_model import Ridge, Lasso,RidgeCV,LassoCV"
   ]
  },
  {
   "cell_type": "code",
   "execution_count": 119,
   "id": "0d807f94",
   "metadata": {},
   "outputs": [
    {
     "data": {
      "text/html": [
       "<style>#sk-container-id-6 {color: black;background-color: white;}#sk-container-id-6 pre{padding: 0;}#sk-container-id-6 div.sk-toggleable {background-color: white;}#sk-container-id-6 label.sk-toggleable__label {cursor: pointer;display: block;width: 100%;margin-bottom: 0;padding: 0.3em;box-sizing: border-box;text-align: center;}#sk-container-id-6 label.sk-toggleable__label-arrow:before {content: \"▸\";float: left;margin-right: 0.25em;color: #696969;}#sk-container-id-6 label.sk-toggleable__label-arrow:hover:before {color: black;}#sk-container-id-6 div.sk-estimator:hover label.sk-toggleable__label-arrow:before {color: black;}#sk-container-id-6 div.sk-toggleable__content {max-height: 0;max-width: 0;overflow: hidden;text-align: left;background-color: #f0f8ff;}#sk-container-id-6 div.sk-toggleable__content pre {margin: 0.2em;color: black;border-radius: 0.25em;background-color: #f0f8ff;}#sk-container-id-6 input.sk-toggleable__control:checked~div.sk-toggleable__content {max-height: 200px;max-width: 100%;overflow: auto;}#sk-container-id-6 input.sk-toggleable__control:checked~label.sk-toggleable__label-arrow:before {content: \"▾\";}#sk-container-id-6 div.sk-estimator input.sk-toggleable__control:checked~label.sk-toggleable__label {background-color: #d4ebff;}#sk-container-id-6 div.sk-label input.sk-toggleable__control:checked~label.sk-toggleable__label {background-color: #d4ebff;}#sk-container-id-6 input.sk-hidden--visually {border: 0;clip: rect(1px 1px 1px 1px);clip: rect(1px, 1px, 1px, 1px);height: 1px;margin: -1px;overflow: hidden;padding: 0;position: absolute;width: 1px;}#sk-container-id-6 div.sk-estimator {font-family: monospace;background-color: #f0f8ff;border: 1px dotted black;border-radius: 0.25em;box-sizing: border-box;margin-bottom: 0.5em;}#sk-container-id-6 div.sk-estimator:hover {background-color: #d4ebff;}#sk-container-id-6 div.sk-parallel-item::after {content: \"\";width: 100%;border-bottom: 1px solid gray;flex-grow: 1;}#sk-container-id-6 div.sk-label:hover label.sk-toggleable__label {background-color: #d4ebff;}#sk-container-id-6 div.sk-serial::before {content: \"\";position: absolute;border-left: 1px solid gray;box-sizing: border-box;top: 0;bottom: 0;left: 50%;z-index: 0;}#sk-container-id-6 div.sk-serial {display: flex;flex-direction: column;align-items: center;background-color: white;padding-right: 0.2em;padding-left: 0.2em;position: relative;}#sk-container-id-6 div.sk-item {position: relative;z-index: 1;}#sk-container-id-6 div.sk-parallel {display: flex;align-items: stretch;justify-content: center;background-color: white;position: relative;}#sk-container-id-6 div.sk-item::before, #sk-container-id-6 div.sk-parallel-item::before {content: \"\";position: absolute;border-left: 1px solid gray;box-sizing: border-box;top: 0;bottom: 0;left: 50%;z-index: -1;}#sk-container-id-6 div.sk-parallel-item {display: flex;flex-direction: column;z-index: 1;position: relative;background-color: white;}#sk-container-id-6 div.sk-parallel-item:first-child::after {align-self: flex-end;width: 50%;}#sk-container-id-6 div.sk-parallel-item:last-child::after {align-self: flex-start;width: 50%;}#sk-container-id-6 div.sk-parallel-item:only-child::after {width: 0;}#sk-container-id-6 div.sk-dashed-wrapped {border: 1px dashed gray;margin: 0 0.4em 0.5em 0.4em;box-sizing: border-box;padding-bottom: 0.4em;background-color: white;}#sk-container-id-6 div.sk-label label {font-family: monospace;font-weight: bold;display: inline-block;line-height: 1.2em;}#sk-container-id-6 div.sk-label-container {text-align: center;}#sk-container-id-6 div.sk-container {/* jupyter's `normalize.less` sets `[hidden] { display: none; }` but bootstrap.min.css set `[hidden] { display: none !important; }` so we also need the `!important` here to be able to override the default hidden behavior on the sphinx rendered scikit-learn.org. See: https://github.com/scikit-learn/scikit-learn/issues/21755 */display: inline-block !important;position: relative;}#sk-container-id-6 div.sk-text-repr-fallback {display: none;}</style><div id=\"sk-container-id-6\" class=\"sk-top-container\"><div class=\"sk-text-repr-fallback\"><pre>LassoCV(max_iter=100, normalize=True)</pre><b>In a Jupyter environment, please rerun this cell to show the HTML representation or trust the notebook. <br />On GitHub, the HTML representation is unable to render, please try loading this page with nbviewer.org.</b></div><div class=\"sk-container\" hidden><div class=\"sk-item\"><div class=\"sk-estimator sk-toggleable\"><input class=\"sk-toggleable__control sk-hidden--visually\" id=\"sk-estimator-id-6\" type=\"checkbox\" checked><label for=\"sk-estimator-id-6\" class=\"sk-toggleable__label sk-toggleable__label-arrow\">LassoCV</label><div class=\"sk-toggleable__content\"><pre>LassoCV(max_iter=100, normalize=True)</pre></div></div></div></div></div>"
      ],
      "text/plain": [
       "LassoCV(max_iter=100, normalize=True)"
      ]
     },
     "execution_count": 119,
     "metadata": {},
     "output_type": "execute_result"
    }
   ],
   "source": [
    "lass_CV=LassoCV(alphas=None,max_iter=100,normalize=True)\n",
    "lass_CV.fit(x_train,y_train)"
   ]
  },
  {
   "cell_type": "code",
   "execution_count": 121,
   "id": "69055343",
   "metadata": {},
   "outputs": [
    {
     "data": {
      "text/plain": [
       "0.002316539886988451"
      ]
     },
     "execution_count": 121,
     "metadata": {},
     "output_type": "execute_result"
    }
   ],
   "source": [
    "# Check best alpha\n",
    "alpha=lass_CV.alpha_\n",
    "alpha"
   ]
  },
  {
   "cell_type": "code",
   "execution_count": 122,
   "id": "1922ab26",
   "metadata": {},
   "outputs": [
    {
     "data": {
      "text/html": [
       "<style>#sk-container-id-7 {color: black;background-color: white;}#sk-container-id-7 pre{padding: 0;}#sk-container-id-7 div.sk-toggleable {background-color: white;}#sk-container-id-7 label.sk-toggleable__label {cursor: pointer;display: block;width: 100%;margin-bottom: 0;padding: 0.3em;box-sizing: border-box;text-align: center;}#sk-container-id-7 label.sk-toggleable__label-arrow:before {content: \"▸\";float: left;margin-right: 0.25em;color: #696969;}#sk-container-id-7 label.sk-toggleable__label-arrow:hover:before {color: black;}#sk-container-id-7 div.sk-estimator:hover label.sk-toggleable__label-arrow:before {color: black;}#sk-container-id-7 div.sk-toggleable__content {max-height: 0;max-width: 0;overflow: hidden;text-align: left;background-color: #f0f8ff;}#sk-container-id-7 div.sk-toggleable__content pre {margin: 0.2em;color: black;border-radius: 0.25em;background-color: #f0f8ff;}#sk-container-id-7 input.sk-toggleable__control:checked~div.sk-toggleable__content {max-height: 200px;max-width: 100%;overflow: auto;}#sk-container-id-7 input.sk-toggleable__control:checked~label.sk-toggleable__label-arrow:before {content: \"▾\";}#sk-container-id-7 div.sk-estimator input.sk-toggleable__control:checked~label.sk-toggleable__label {background-color: #d4ebff;}#sk-container-id-7 div.sk-label input.sk-toggleable__control:checked~label.sk-toggleable__label {background-color: #d4ebff;}#sk-container-id-7 input.sk-hidden--visually {border: 0;clip: rect(1px 1px 1px 1px);clip: rect(1px, 1px, 1px, 1px);height: 1px;margin: -1px;overflow: hidden;padding: 0;position: absolute;width: 1px;}#sk-container-id-7 div.sk-estimator {font-family: monospace;background-color: #f0f8ff;border: 1px dotted black;border-radius: 0.25em;box-sizing: border-box;margin-bottom: 0.5em;}#sk-container-id-7 div.sk-estimator:hover {background-color: #d4ebff;}#sk-container-id-7 div.sk-parallel-item::after {content: \"\";width: 100%;border-bottom: 1px solid gray;flex-grow: 1;}#sk-container-id-7 div.sk-label:hover label.sk-toggleable__label {background-color: #d4ebff;}#sk-container-id-7 div.sk-serial::before {content: \"\";position: absolute;border-left: 1px solid gray;box-sizing: border-box;top: 0;bottom: 0;left: 50%;z-index: 0;}#sk-container-id-7 div.sk-serial {display: flex;flex-direction: column;align-items: center;background-color: white;padding-right: 0.2em;padding-left: 0.2em;position: relative;}#sk-container-id-7 div.sk-item {position: relative;z-index: 1;}#sk-container-id-7 div.sk-parallel {display: flex;align-items: stretch;justify-content: center;background-color: white;position: relative;}#sk-container-id-7 div.sk-item::before, #sk-container-id-7 div.sk-parallel-item::before {content: \"\";position: absolute;border-left: 1px solid gray;box-sizing: border-box;top: 0;bottom: 0;left: 50%;z-index: -1;}#sk-container-id-7 div.sk-parallel-item {display: flex;flex-direction: column;z-index: 1;position: relative;background-color: white;}#sk-container-id-7 div.sk-parallel-item:first-child::after {align-self: flex-end;width: 50%;}#sk-container-id-7 div.sk-parallel-item:last-child::after {align-self: flex-start;width: 50%;}#sk-container-id-7 div.sk-parallel-item:only-child::after {width: 0;}#sk-container-id-7 div.sk-dashed-wrapped {border: 1px dashed gray;margin: 0 0.4em 0.5em 0.4em;box-sizing: border-box;padding-bottom: 0.4em;background-color: white;}#sk-container-id-7 div.sk-label label {font-family: monospace;font-weight: bold;display: inline-block;line-height: 1.2em;}#sk-container-id-7 div.sk-label-container {text-align: center;}#sk-container-id-7 div.sk-container {/* jupyter's `normalize.less` sets `[hidden] { display: none; }` but bootstrap.min.css set `[hidden] { display: none !important; }` so we also need the `!important` here to be able to override the default hidden behavior on the sphinx rendered scikit-learn.org. See: https://github.com/scikit-learn/scikit-learn/issues/21755 */display: inline-block !important;position: relative;}#sk-container-id-7 div.sk-text-repr-fallback {display: none;}</style><div id=\"sk-container-id-7\" class=\"sk-top-container\"><div class=\"sk-text-repr-fallback\"><pre>Lasso(alpha=0.002316539886988451)</pre><b>In a Jupyter environment, please rerun this cell to show the HTML representation or trust the notebook. <br />On GitHub, the HTML representation is unable to render, please try loading this page with nbviewer.org.</b></div><div class=\"sk-container\" hidden><div class=\"sk-item\"><div class=\"sk-estimator sk-toggleable\"><input class=\"sk-toggleable__control sk-hidden--visually\" id=\"sk-estimator-id-7\" type=\"checkbox\" checked><label for=\"sk-estimator-id-7\" class=\"sk-toggleable__label sk-toggleable__label-arrow\">Lasso</label><div class=\"sk-toggleable__content\"><pre>Lasso(alpha=0.002316539886988451)</pre></div></div></div></div></div>"
      ],
      "text/plain": [
       "Lasso(alpha=0.002316539886988451)"
      ]
     },
     "execution_count": 122,
     "metadata": {},
     "output_type": "execute_result"
    }
   ],
   "source": [
    "lasso_reg=Lasso(alpha)\n",
    "lasso_reg.fit(x_train,y_train)"
   ]
  },
  {
   "cell_type": "code",
   "execution_count": 124,
   "id": "748ed50f",
   "metadata": {},
   "outputs": [
    {
     "data": {
      "text/plain": [
       "0.0645197550510257"
      ]
     },
     "execution_count": 124,
     "metadata": {},
     "output_type": "execute_result"
    }
   ],
   "source": [
    "lasso_reg.score(x_test,y_test)"
   ]
  },
  {
   "cell_type": "markdown",
   "id": "0d70f9b3",
   "metadata": {},
   "source": [
    "# Checking the model with Ridge"
   ]
  },
  {
   "cell_type": "code",
   "execution_count": 131,
   "id": "54437123",
   "metadata": {},
   "outputs": [
    {
     "data": {
      "text/html": [
       "<style>#sk-container-id-9 {color: black;background-color: white;}#sk-container-id-9 pre{padding: 0;}#sk-container-id-9 div.sk-toggleable {background-color: white;}#sk-container-id-9 label.sk-toggleable__label {cursor: pointer;display: block;width: 100%;margin-bottom: 0;padding: 0.3em;box-sizing: border-box;text-align: center;}#sk-container-id-9 label.sk-toggleable__label-arrow:before {content: \"▸\";float: left;margin-right: 0.25em;color: #696969;}#sk-container-id-9 label.sk-toggleable__label-arrow:hover:before {color: black;}#sk-container-id-9 div.sk-estimator:hover label.sk-toggleable__label-arrow:before {color: black;}#sk-container-id-9 div.sk-toggleable__content {max-height: 0;max-width: 0;overflow: hidden;text-align: left;background-color: #f0f8ff;}#sk-container-id-9 div.sk-toggleable__content pre {margin: 0.2em;color: black;border-radius: 0.25em;background-color: #f0f8ff;}#sk-container-id-9 input.sk-toggleable__control:checked~div.sk-toggleable__content {max-height: 200px;max-width: 100%;overflow: auto;}#sk-container-id-9 input.sk-toggleable__control:checked~label.sk-toggleable__label-arrow:before {content: \"▾\";}#sk-container-id-9 div.sk-estimator input.sk-toggleable__control:checked~label.sk-toggleable__label {background-color: #d4ebff;}#sk-container-id-9 div.sk-label input.sk-toggleable__control:checked~label.sk-toggleable__label {background-color: #d4ebff;}#sk-container-id-9 input.sk-hidden--visually {border: 0;clip: rect(1px 1px 1px 1px);clip: rect(1px, 1px, 1px, 1px);height: 1px;margin: -1px;overflow: hidden;padding: 0;position: absolute;width: 1px;}#sk-container-id-9 div.sk-estimator {font-family: monospace;background-color: #f0f8ff;border: 1px dotted black;border-radius: 0.25em;box-sizing: border-box;margin-bottom: 0.5em;}#sk-container-id-9 div.sk-estimator:hover {background-color: #d4ebff;}#sk-container-id-9 div.sk-parallel-item::after {content: \"\";width: 100%;border-bottom: 1px solid gray;flex-grow: 1;}#sk-container-id-9 div.sk-label:hover label.sk-toggleable__label {background-color: #d4ebff;}#sk-container-id-9 div.sk-serial::before {content: \"\";position: absolute;border-left: 1px solid gray;box-sizing: border-box;top: 0;bottom: 0;left: 50%;z-index: 0;}#sk-container-id-9 div.sk-serial {display: flex;flex-direction: column;align-items: center;background-color: white;padding-right: 0.2em;padding-left: 0.2em;position: relative;}#sk-container-id-9 div.sk-item {position: relative;z-index: 1;}#sk-container-id-9 div.sk-parallel {display: flex;align-items: stretch;justify-content: center;background-color: white;position: relative;}#sk-container-id-9 div.sk-item::before, #sk-container-id-9 div.sk-parallel-item::before {content: \"\";position: absolute;border-left: 1px solid gray;box-sizing: border-box;top: 0;bottom: 0;left: 50%;z-index: -1;}#sk-container-id-9 div.sk-parallel-item {display: flex;flex-direction: column;z-index: 1;position: relative;background-color: white;}#sk-container-id-9 div.sk-parallel-item:first-child::after {align-self: flex-end;width: 50%;}#sk-container-id-9 div.sk-parallel-item:last-child::after {align-self: flex-start;width: 50%;}#sk-container-id-9 div.sk-parallel-item:only-child::after {width: 0;}#sk-container-id-9 div.sk-dashed-wrapped {border: 1px dashed gray;margin: 0 0.4em 0.5em 0.4em;box-sizing: border-box;padding-bottom: 0.4em;background-color: white;}#sk-container-id-9 div.sk-label label {font-family: monospace;font-weight: bold;display: inline-block;line-height: 1.2em;}#sk-container-id-9 div.sk-label-container {text-align: center;}#sk-container-id-9 div.sk-container {/* jupyter's `normalize.less` sets `[hidden] { display: none; }` but bootstrap.min.css set `[hidden] { display: none !important; }` so we also need the `!important` here to be able to override the default hidden behavior on the sphinx rendered scikit-learn.org. See: https://github.com/scikit-learn/scikit-learn/issues/21755 */display: inline-block !important;position: relative;}#sk-container-id-9 div.sk-text-repr-fallback {display: none;}</style><div id=\"sk-container-id-9\" class=\"sk-top-container\"><div class=\"sk-text-repr-fallback\"><pre>RidgeCV(alphas=array([0.0001, 0.0101, 0.0201, 0.0301, 0.0401, 0.0501, 0.0601, 0.0701,\n",
       "       0.0801, 0.0901]),\n",
       "        normalize=True)</pre><b>In a Jupyter environment, please rerun this cell to show the HTML representation or trust the notebook. <br />On GitHub, the HTML representation is unable to render, please try loading this page with nbviewer.org.</b></div><div class=\"sk-container\" hidden><div class=\"sk-item\"><div class=\"sk-estimator sk-toggleable\"><input class=\"sk-toggleable__control sk-hidden--visually\" id=\"sk-estimator-id-9\" type=\"checkbox\" checked><label for=\"sk-estimator-id-9\" class=\"sk-toggleable__label sk-toggleable__label-arrow\">RidgeCV</label><div class=\"sk-toggleable__content\"><pre>RidgeCV(alphas=array([0.0001, 0.0101, 0.0201, 0.0301, 0.0401, 0.0501, 0.0601, 0.0701,\n",
       "       0.0801, 0.0901]),\n",
       "        normalize=True)</pre></div></div></div></div></div>"
      ],
      "text/plain": [
       "RidgeCV(alphas=array([0.0001, 0.0101, 0.0201, 0.0301, 0.0401, 0.0501, 0.0601, 0.0701,\n",
       "       0.0801, 0.0901]),\n",
       "        normalize=True)"
      ]
     },
     "execution_count": 131,
     "metadata": {},
     "output_type": "execute_result"
    }
   ],
   "source": [
    "ridge_CV=RidgeCV(alphas=np.arange(0.0001,0.1,0.01),normalize=True)\n",
    "ridge_CV.fit(x_train,y_train)"
   ]
  },
  {
   "cell_type": "code",
   "execution_count": 132,
   "id": "8d6695b7",
   "metadata": {},
   "outputs": [
    {
     "data": {
      "text/plain": [
       "0.040100000000000004"
      ]
     },
     "execution_count": 132,
     "metadata": {},
     "output_type": "execute_result"
    }
   ],
   "source": [
    "ridge_CV.alpha_"
   ]
  },
  {
   "cell_type": "code",
   "execution_count": 133,
   "id": "719ecedd",
   "metadata": {},
   "outputs": [
    {
     "data": {
      "text/html": [
       "<style>#sk-container-id-10 {color: black;background-color: white;}#sk-container-id-10 pre{padding: 0;}#sk-container-id-10 div.sk-toggleable {background-color: white;}#sk-container-id-10 label.sk-toggleable__label {cursor: pointer;display: block;width: 100%;margin-bottom: 0;padding: 0.3em;box-sizing: border-box;text-align: center;}#sk-container-id-10 label.sk-toggleable__label-arrow:before {content: \"▸\";float: left;margin-right: 0.25em;color: #696969;}#sk-container-id-10 label.sk-toggleable__label-arrow:hover:before {color: black;}#sk-container-id-10 div.sk-estimator:hover label.sk-toggleable__label-arrow:before {color: black;}#sk-container-id-10 div.sk-toggleable__content {max-height: 0;max-width: 0;overflow: hidden;text-align: left;background-color: #f0f8ff;}#sk-container-id-10 div.sk-toggleable__content pre {margin: 0.2em;color: black;border-radius: 0.25em;background-color: #f0f8ff;}#sk-container-id-10 input.sk-toggleable__control:checked~div.sk-toggleable__content {max-height: 200px;max-width: 100%;overflow: auto;}#sk-container-id-10 input.sk-toggleable__control:checked~label.sk-toggleable__label-arrow:before {content: \"▾\";}#sk-container-id-10 div.sk-estimator input.sk-toggleable__control:checked~label.sk-toggleable__label {background-color: #d4ebff;}#sk-container-id-10 div.sk-label input.sk-toggleable__control:checked~label.sk-toggleable__label {background-color: #d4ebff;}#sk-container-id-10 input.sk-hidden--visually {border: 0;clip: rect(1px 1px 1px 1px);clip: rect(1px, 1px, 1px, 1px);height: 1px;margin: -1px;overflow: hidden;padding: 0;position: absolute;width: 1px;}#sk-container-id-10 div.sk-estimator {font-family: monospace;background-color: #f0f8ff;border: 1px dotted black;border-radius: 0.25em;box-sizing: border-box;margin-bottom: 0.5em;}#sk-container-id-10 div.sk-estimator:hover {background-color: #d4ebff;}#sk-container-id-10 div.sk-parallel-item::after {content: \"\";width: 100%;border-bottom: 1px solid gray;flex-grow: 1;}#sk-container-id-10 div.sk-label:hover label.sk-toggleable__label {background-color: #d4ebff;}#sk-container-id-10 div.sk-serial::before {content: \"\";position: absolute;border-left: 1px solid gray;box-sizing: border-box;top: 0;bottom: 0;left: 50%;z-index: 0;}#sk-container-id-10 div.sk-serial {display: flex;flex-direction: column;align-items: center;background-color: white;padding-right: 0.2em;padding-left: 0.2em;position: relative;}#sk-container-id-10 div.sk-item {position: relative;z-index: 1;}#sk-container-id-10 div.sk-parallel {display: flex;align-items: stretch;justify-content: center;background-color: white;position: relative;}#sk-container-id-10 div.sk-item::before, #sk-container-id-10 div.sk-parallel-item::before {content: \"\";position: absolute;border-left: 1px solid gray;box-sizing: border-box;top: 0;bottom: 0;left: 50%;z-index: -1;}#sk-container-id-10 div.sk-parallel-item {display: flex;flex-direction: column;z-index: 1;position: relative;background-color: white;}#sk-container-id-10 div.sk-parallel-item:first-child::after {align-self: flex-end;width: 50%;}#sk-container-id-10 div.sk-parallel-item:last-child::after {align-self: flex-start;width: 50%;}#sk-container-id-10 div.sk-parallel-item:only-child::after {width: 0;}#sk-container-id-10 div.sk-dashed-wrapped {border: 1px dashed gray;margin: 0 0.4em 0.5em 0.4em;box-sizing: border-box;padding-bottom: 0.4em;background-color: white;}#sk-container-id-10 div.sk-label label {font-family: monospace;font-weight: bold;display: inline-block;line-height: 1.2em;}#sk-container-id-10 div.sk-label-container {text-align: center;}#sk-container-id-10 div.sk-container {/* jupyter's `normalize.less` sets `[hidden] { display: none; }` but bootstrap.min.css set `[hidden] { display: none !important; }` so we also need the `!important` here to be able to override the default hidden behavior on the sphinx rendered scikit-learn.org. See: https://github.com/scikit-learn/scikit-learn/issues/21755 */display: inline-block !important;position: relative;}#sk-container-id-10 div.sk-text-repr-fallback {display: none;}</style><div id=\"sk-container-id-10\" class=\"sk-top-container\"><div class=\"sk-text-repr-fallback\"><pre>Ridge(alpha=0.040100000000000004)</pre><b>In a Jupyter environment, please rerun this cell to show the HTML representation or trust the notebook. <br />On GitHub, the HTML representation is unable to render, please try loading this page with nbviewer.org.</b></div><div class=\"sk-container\" hidden><div class=\"sk-item\"><div class=\"sk-estimator sk-toggleable\"><input class=\"sk-toggleable__control sk-hidden--visually\" id=\"sk-estimator-id-10\" type=\"checkbox\" checked><label for=\"sk-estimator-id-10\" class=\"sk-toggleable__label sk-toggleable__label-arrow\">Ridge</label><div class=\"sk-toggleable__content\"><pre>Ridge(alpha=0.040100000000000004)</pre></div></div></div></div></div>"
      ],
      "text/plain": [
       "Ridge(alpha=0.040100000000000004)"
      ]
     },
     "execution_count": 133,
     "metadata": {},
     "output_type": "execute_result"
    }
   ],
   "source": [
    "ridge_model=Ridge(alpha=ridge_CV.alpha_)\n",
    "ridge_model.fit(x_train,y_train)"
   ]
  },
  {
   "cell_type": "code",
   "execution_count": 135,
   "id": "bf938c2b",
   "metadata": {},
   "outputs": [
    {
     "data": {
      "text/plain": [
       "0.06452038940084803"
      ]
     },
     "execution_count": 135,
     "metadata": {},
     "output_type": "execute_result"
    }
   ],
   "source": [
    "ridge_model.score(x_test,y_test)"
   ]
  },
  {
   "cell_type": "markdown",
   "id": "886cebb4",
   "metadata": {},
   "source": [
    "So, we have check all the models are giving same score. so concluded that our model is not overfitted.\n"
   ]
  }
 ],
 "metadata": {
  "kernelspec": {
   "display_name": "Python 3 (ipykernel)",
   "language": "python",
   "name": "python3"
  },
  "language_info": {
   "codemirror_mode": {
    "name": "ipython",
    "version": 3
   },
   "file_extension": ".py",
   "mimetype": "text/x-python",
   "name": "python",
   "nbconvert_exporter": "python",
   "pygments_lexer": "ipython3",
   "version": "3.9.12"
  }
 },
 "nbformat": 4,
 "nbformat_minor": 5
}
